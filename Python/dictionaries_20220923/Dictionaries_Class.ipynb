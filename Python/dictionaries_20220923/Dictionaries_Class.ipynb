{
  "nbformat": 4,
  "nbformat_minor": 0,
  "metadata": {
    "colab": {
      "provenance": []
    },
    "kernelspec": {
      "name": "python3",
      "display_name": "Python 3"
    },
    "language_info": {
      "name": "python"
    }
  },
  "cells": [
    {
      "cell_type": "code",
      "execution_count": 2,
      "metadata": {
        "colab": {
          "base_uri": "https://localhost:8080/",
          "height": 167
        },
        "id": "rqoCsLeVBQTk",
        "outputId": "481662c0-eb97-4b76-8884-ad90ec9542e4"
      },
      "outputs": [
        {
          "output_type": "error",
          "ename": "NameError",
          "evalue": "ignored",
          "traceback": [
            "\u001b[0;31m---------------------------------------------------------------------------\u001b[0m",
            "\u001b[0;31mNameError\u001b[0m                                 Traceback (most recent call last)",
            "\u001b[0;32m<ipython-input-2-6122400d05e8>\u001b[0m in \u001b[0;36m<module>\u001b[0;34m\u001b[0m\n\u001b[0;32m----> 1\u001b[0;31m \u001b[0mprint\u001b[0m\u001b[0;34m(\u001b[0m\u001b[0mhi\u001b[0m\u001b[0;34m)\u001b[0m\u001b[0;34m\u001b[0m\u001b[0;34m\u001b[0m\u001b[0m\n\u001b[0m",
            "\u001b[0;31mNameError\u001b[0m: name 'hi' is not defined"
          ]
        }
      ],
      "source": [
        "print(hi)"
      ]
    },
    {
      "cell_type": "code",
      "source": [
        "print(\"Hello\")"
      ],
      "metadata": {
        "colab": {
          "base_uri": "https://localhost:8080/"
        },
        "id": "BNGGmAvpBWZu",
        "outputId": "689ccfa7-aba1-4247-f8ea-be21ef97044d"
      },
      "execution_count": 3,
      "outputs": [
        {
          "output_type": "stream",
          "name": "stdout",
          "text": [
            "Hello\n"
          ]
        }
      ]
    },
    {
      "cell_type": "code",
      "source": [
        "print(1)"
      ],
      "metadata": {
        "colab": {
          "base_uri": "https://localhost:8080/"
        },
        "id": "UFC9yB4RDZA0",
        "outputId": "0ca26f32-a095-478b-c12d-e2ec34bda3b7"
      },
      "execution_count": 4,
      "outputs": [
        {
          "output_type": "stream",
          "name": "stdout",
          "text": [
            "1\n"
          ]
        }
      ]
    },
    {
      "cell_type": "code",
      "source": [
        "print(name)"
      ],
      "metadata": {
        "colab": {
          "base_uri": "https://localhost:8080/",
          "height": 167
        },
        "id": "4iXyyRlbFSVr",
        "outputId": "5bb58215-e719-451c-ff73-f3b4bbb33b35"
      },
      "execution_count": 8,
      "outputs": [
        {
          "output_type": "error",
          "ename": "NameError",
          "evalue": "ignored",
          "traceback": [
            "\u001b[0;31m---------------------------------------------------------------------------\u001b[0m",
            "\u001b[0;31mNameError\u001b[0m                                 Traceback (most recent call last)",
            "\u001b[0;32m<ipython-input-8-9ba126b17b03>\u001b[0m in \u001b[0;36m<module>\u001b[0;34m\u001b[0m\n\u001b[0;32m----> 1\u001b[0;31m \u001b[0mprint\u001b[0m\u001b[0;34m(\u001b[0m\u001b[0mname\u001b[0m\u001b[0;34m)\u001b[0m\u001b[0;34m\u001b[0m\u001b[0;34m\u001b[0m\u001b[0m\n\u001b[0m",
            "\u001b[0;31mNameError\u001b[0m: name 'name' is not defined"
          ]
        }
      ]
    },
    {
      "cell_type": "code",
      "source": [
        "# creation of dictionary\n",
        "# Key will be either integers or strings\n",
        "\n",
        "dict1 = {\"name\" : \"Adi\", \"age\" : 31, \"city\": 'tpty'}\n",
        "\n",
        "print(dict1)\n",
        "\n",
        "dict2 = {1 : \"Adi\", 2 : 31, 3: 'tpty'}\n",
        "\n",
        "print(dict2)"
      ],
      "metadata": {
        "colab": {
          "base_uri": "https://localhost:8080/"
        },
        "id": "Dgh7xpJtDfIj",
        "outputId": "b72e7cc2-6df0-4d7c-a338-9b95fee6736b"
      },
      "execution_count": 18,
      "outputs": [
        {
          "output_type": "stream",
          "name": "stdout",
          "text": [
            "{'name': 'Adi', 'age': 31, 'city': 'tpty'}\n",
            "{1: 'Adi', 2: 31, 3: 'tpty'}\n"
          ]
        }
      ]
    },
    {
      "cell_type": "code",
      "source": [
        "# Duplicates Keys won't exists ina dictionary, but duplicate values will be.\n",
        "\n",
        "dict1 = {\"name\" : \"Adi\", \"age\" : 31, \"city\": 'tpty', \"name\":\"Dileep\"}\n",
        "\n",
        "print(dict1)\n"
      ],
      "metadata": {
        "colab": {
          "base_uri": "https://localhost:8080/"
        },
        "id": "JBMFqqdWFxKt",
        "outputId": "8800fb3e-c0b3-4f79-bb7d-88fdb45f18dd"
      },
      "execution_count": 20,
      "outputs": [
        {
          "output_type": "stream",
          "name": "stdout",
          "text": [
            "{'name': 'Dileep', 'age': 31, 'city': 'tpty'}\n"
          ]
        }
      ]
    },
    {
      "cell_type": "code",
      "source": [
        "# Duplicates Keys won't exists in a dictionary, but duplicate values will be.\n",
        "\n",
        "dict1 = {\"name\" : \"Adi\", \"age\" : 31, \"office\": 'tpty',\"home\": 'tpty'}\n",
        "\n",
        "print(dict1)"
      ],
      "metadata": {
        "colab": {
          "base_uri": "https://localhost:8080/"
        },
        "id": "fu_8TFZiHxNA",
        "outputId": "51d201df-0efe-4a3b-b29f-6047b23039fa"
      },
      "execution_count": 21,
      "outputs": [
        {
          "output_type": "stream",
          "name": "stdout",
          "text": [
            "{'name': 'Adi', 'age': 31, 'office': 'tpty', 'home': 'tpty'}\n"
          ]
        }
      ]
    },
    {
      "cell_type": "code",
      "source": [
        "lst = [1,[10,20,30,40],2,3,4]\n",
        "\n",
        "print(lst)\n",
        "print(lst[1][2])\n",
        "\n",
        "lst[1] = 20\n",
        "\n",
        "print(lst)"
      ],
      "metadata": {
        "colab": {
          "base_uri": "https://localhost:8080/"
        },
        "id": "lnP828hGMQlm",
        "outputId": "82e8d544-a94e-48d0-92c1-28eca2baceb4"
      },
      "execution_count": 47,
      "outputs": [
        {
          "output_type": "stream",
          "name": "stdout",
          "text": [
            "[1, [10, 20, 30, 40], 2, 3, 4]\n",
            "30\n",
            "[1, 20, 2, 3, 4]\n"
          ]
        }
      ]
    },
    {
      "cell_type": "code",
      "source": [
        "# Values in a dictionary can be of any datatypes or python objects\n",
        "\n",
        "dict1 = {\"name\" : \"Adi\", \"cities\": ['tpty','repalle','podili']} \n",
        "\n",
        "# print(dict1[\"name\"])\n",
        "\n",
        "dict1 = {\"name\" : \"Adi\", \"cities\": ['tpty','repalle','podili'], 'kids' : {'kid1': 'Jeshu','kid2': 'Vasudha'}} \n",
        "\n",
        "# print(dict1)\n",
        "# print(dict1['kids']['kid2'])\n",
        "print(dict1['kids']['kid2'].upper())"
      ],
      "metadata": {
        "colab": {
          "base_uri": "https://localhost:8080/"
        },
        "id": "rnc3G0l2ItRF",
        "outputId": "145f57bf-c27d-4bae-f67d-08fff973c019"
      },
      "execution_count": 44,
      "outputs": [
        {
          "output_type": "stream",
          "name": "stdout",
          "text": [
            "VASUDHA\n"
          ]
        }
      ]
    },
    {
      "cell_type": "code",
      "source": [
        "tup1 = (1,2,3,4,5)\n",
        "\n",
        "print(tup1[2])\n",
        "\n"
      ],
      "metadata": {
        "colab": {
          "base_uri": "https://localhost:8080/"
        },
        "id": "eUCNJfxuNyMV",
        "outputId": "4055b0f3-e8cd-40d8-d7a0-b4a476f219ba"
      },
      "execution_count": 71,
      "outputs": [
        {
          "output_type": "stream",
          "name": "stdout",
          "text": [
            "3\n"
          ]
        }
      ]
    },
    {
      "cell_type": "code",
      "source": [
        "# Accessing a dictionary \n",
        "\n",
        "dict1 = {\"name\" : \"Adi\", \"age\" : 31, \"office\": 'tpty',\"home\": 'tpty'}\n",
        "\n",
        "print(dict1[\"name\"])\n",
        "\n",
        "print(dict1[\"fname\"])"
      ],
      "metadata": {
        "id": "QEHAPMzFLTGb"
      },
      "execution_count": null,
      "outputs": []
    },
    {
      "cell_type": "code",
      "source": [
        "# modifiation of a dictionary - can be done on key based only\n",
        "\n",
        "dict1 = {\"name\" : \"Adi\", \"age\" : 31, \"office\": 'tpty',\"home\": 'tpty'}\n",
        "\n",
        "print(dict1)\n",
        "\n",
        "dict1['office'] = \"renigunta\"\n",
        "\n",
        "print(dict1)\n"
      ],
      "metadata": {
        "colab": {
          "base_uri": "https://localhost:8080/"
        },
        "id": "L2R9AyXsNaCS",
        "outputId": "626b08de-15cc-4d65-9880-2c8c1f0fa41f"
      },
      "execution_count": 48,
      "outputs": [
        {
          "output_type": "stream",
          "name": "stdout",
          "text": [
            "{'name': 'Adi', 'age': 31, 'office': 'tpty', 'home': 'tpty'}\n",
            "{'name': 'Adi', 'age': 31, 'office': 'renigunta', 'home': 'tpty'}\n"
          ]
        }
      ]
    },
    {
      "cell_type": "code",
      "source": [
        "# modifiation of a dictionary(Adding a new key into Dictionary) - can be done on key based only\n",
        "\n",
        "dict1 = {\"name\" : \"Adi\", \"age\" : 31, \"office\": 'tpty',\"home\": 'tpty'}\n",
        "\n",
        "print(dict1)\n",
        "\n",
        "dict1['gender'] = 'male'\n",
        "print(dict1)\n",
        "\n",
        "dict1['dob'] = '1990-01-01'\n",
        "print(dict1)\n",
        "\n",
        "del dict1['name']\n",
        "\n",
        "print(dict1)"
      ],
      "metadata": {
        "colab": {
          "base_uri": "https://localhost:8080/"
        },
        "id": "CnZWRsGpO--V",
        "outputId": "4958c718-1358-4deb-f60a-2cf24214609f"
      },
      "execution_count": 51,
      "outputs": [
        {
          "output_type": "stream",
          "name": "stdout",
          "text": [
            "{'name': 'Adi', 'age': 31, 'office': 'tpty', 'home': 'tpty'}\n",
            "{'name': 'Adi', 'age': 31, 'office': 'tpty', 'home': 'tpty', 'gender': 'male'}\n",
            "{'name': 'Adi', 'age': 31, 'office': 'tpty', 'home': 'tpty', 'gender': 'male', 'dob': '1990-01-01'}\n",
            "{'age': 31, 'office': 'tpty', 'home': 'tpty', 'gender': 'male', 'dob': '1990-01-01'}\n"
          ]
        }
      ]
    },
    {
      "cell_type": "code",
      "source": [
        "name = \"Adi\"\n",
        "\n",
        "print(name)\n",
        "\n",
        "del name\n",
        "\n",
        "print(name)"
      ],
      "metadata": {
        "colab": {
          "base_uri": "https://localhost:8080/",
          "height": 219
        },
        "id": "aIRkEaeJQEgf",
        "outputId": "2514882a-48fa-4abd-ee1b-8ad6cdc037f1"
      },
      "execution_count": 53,
      "outputs": [
        {
          "output_type": "stream",
          "name": "stdout",
          "text": [
            "Adi\n"
          ]
        },
        {
          "output_type": "error",
          "ename": "NameError",
          "evalue": "ignored",
          "traceback": [
            "\u001b[0;31m---------------------------------------------------------------------------\u001b[0m",
            "\u001b[0;31mNameError\u001b[0m                                 Traceback (most recent call last)",
            "\u001b[0;32m<ipython-input-53-f3ada15f3249>\u001b[0m in \u001b[0;36m<module>\u001b[0;34m\u001b[0m\n\u001b[1;32m      5\u001b[0m \u001b[0;32mdel\u001b[0m \u001b[0mname\u001b[0m\u001b[0;34m\u001b[0m\u001b[0;34m\u001b[0m\u001b[0m\n\u001b[1;32m      6\u001b[0m \u001b[0;34m\u001b[0m\u001b[0m\n\u001b[0;32m----> 7\u001b[0;31m \u001b[0mprint\u001b[0m\u001b[0;34m(\u001b[0m\u001b[0mname\u001b[0m\u001b[0;34m)\u001b[0m\u001b[0;34m\u001b[0m\u001b[0;34m\u001b[0m\u001b[0m\n\u001b[0m",
            "\u001b[0;31mNameError\u001b[0m: name 'name' is not defined"
          ]
        }
      ]
    },
    {
      "cell_type": "code",
      "source": [
        "tup1 = (1,2,3,4,5)\n",
        "\n",
        "print(tup1[2])\n",
        "\n",
        "def check_even_odd(n):\n",
        "  if n % 2 == 0:\n",
        "    return n,\"Even\",100\n",
        "  else:\n",
        "    return n,\"Odd\",101\n",
        "\n",
        "# return type of above functions as a tuple\n",
        "result = check_even_odd(10)\n",
        "\n",
        "print(result[1])\n",
        "\n",
        "a = 100\n",
        "\n",
        "a[0]"
      ],
      "metadata": {
        "colab": {
          "base_uri": "https://localhost:8080/",
          "height": 236
        },
        "id": "ExszLdxRS3Lw",
        "outputId": "10eef075-8b3b-4368-d5a7-bb28f1d05707"
      },
      "execution_count": 75,
      "outputs": [
        {
          "output_type": "stream",
          "name": "stdout",
          "text": [
            "3\n",
            "Even\n"
          ]
        },
        {
          "output_type": "error",
          "ename": "TypeError",
          "evalue": "ignored",
          "traceback": [
            "\u001b[0;31m---------------------------------------------------------------------------\u001b[0m",
            "\u001b[0;31mTypeError\u001b[0m                                 Traceback (most recent call last)",
            "\u001b[0;32m<ipython-input-75-812c5f978b49>\u001b[0m in \u001b[0;36m<module>\u001b[0;34m\u001b[0m\n\u001b[1;32m     16\u001b[0m \u001b[0ma\u001b[0m \u001b[0;34m=\u001b[0m \u001b[0;36m100\u001b[0m\u001b[0;34m\u001b[0m\u001b[0;34m\u001b[0m\u001b[0m\n\u001b[1;32m     17\u001b[0m \u001b[0;34m\u001b[0m\u001b[0m\n\u001b[0;32m---> 18\u001b[0;31m \u001b[0ma\u001b[0m\u001b[0;34m[\u001b[0m\u001b[0;36m0\u001b[0m\u001b[0;34m]\u001b[0m\u001b[0;34m\u001b[0m\u001b[0;34m\u001b[0m\u001b[0m\n\u001b[0m",
            "\u001b[0;31mTypeError\u001b[0m: 'int' object is not subscriptable"
          ]
        }
      ]
    },
    {
      "cell_type": "code",
      "source": [
        "def check_even_odd(n):\n",
        "  if n % 2 == 0:\n",
        "    return n,\"Even\",100\n",
        "  else:\n",
        "    return n,\"Odd\",101\n",
        "\n",
        "# return type of above functions as a tuple\n",
        "number,result,random_number = check_even_odd(10)\n",
        "\n",
        "print(random_number)"
      ],
      "metadata": {
        "colab": {
          "base_uri": "https://localhost:8080/"
        },
        "id": "-loKFq01VDHV",
        "outputId": "8a5c12f8-ebc4-4435-b9c6-9a27e861b9fe"
      },
      "execution_count": 77,
      "outputs": [
        {
          "output_type": "stream",
          "name": "stdout",
          "text": [
            "100\n"
          ]
        }
      ]
    },
    {
      "cell_type": "code",
      "source": [
        "def check_even_odd(n):\n",
        "  if n % 2 == 0:\n",
        "    return n,\"Even\"\n",
        "  else:\n",
        "    return n,\"Odd\"\n",
        "\n",
        "# return type of above functions as a tuple\n",
        "number,result = check_even_odd(10)\n",
        "\n",
        "print(number,result)"
      ],
      "metadata": {
        "colab": {
          "base_uri": "https://localhost:8080/"
        },
        "id": "pH7ZmAUIV0Af",
        "outputId": "a757ffb5-fd02-45a4-e1cb-d863fb6607be"
      },
      "execution_count": 83,
      "outputs": [
        {
          "output_type": "stream",
          "name": "stdout",
          "text": [
            "10 Even\n"
          ]
        }
      ]
    },
    {
      "cell_type": "code",
      "source": [
        "# Dictionary is iterable \n",
        "# When we iterate on a dictionary it will return only Keys\n",
        "\n",
        "dict1 = {'name': 'Adi', 'age': 31, 'office': 'tpty', 'home': 'tpty', 'gender': 'male', 'dob': '1990-01-01'}\n",
        "\n",
        "for x in dict1: # returns only keys, alternatively you can iterate on dict1.keys() also, it give the same result as dict1 iterable\n",
        "  print(x)\n"
      ],
      "metadata": {
        "colab": {
          "base_uri": "https://localhost:8080/"
        },
        "id": "BjJH4tVjQV3G",
        "outputId": "4dca40c7-d736-478b-ec79-565bb661fd77"
      },
      "execution_count": 81,
      "outputs": [
        {
          "output_type": "stream",
          "name": "stdout",
          "text": [
            "name\n",
            "age\n",
            "office\n",
            "home\n",
            "gender\n",
            "dob\n"
          ]
        }
      ]
    },
    {
      "cell_type": "code",
      "source": [
        "\"\"\"\n",
        "keys() - Dictionary Class Predefined method\n",
        "  arguments - no args\n",
        "  return - all the key in the dictions\n",
        "\"\"\"\n",
        "\n",
        "all_keys = dict1.keys()\n",
        "\n",
        "keys_lst = list(all_keys)\n",
        "\n",
        "# print(type(keys_lst))\n",
        "\n",
        "for temp in dict1.keys():\n",
        "  print(temp)"
      ],
      "metadata": {
        "colab": {
          "base_uri": "https://localhost:8080/"
        },
        "id": "uODVpr98WZRH",
        "outputId": "c738e316-73ba-4518-f431-3c26bc604227"
      },
      "execution_count": 88,
      "outputs": [
        {
          "output_type": "stream",
          "name": "stdout",
          "text": [
            "name\n",
            "age\n",
            "office\n",
            "home\n",
            "gender\n",
            "dob\n"
          ]
        }
      ]
    },
    {
      "cell_type": "code",
      "source": [
        "# Not recommended to use keywords as variable name not only in dictionary, but anywhere in tis Python world\n",
        "keys = dict1.keys()\n",
        "\n",
        "print(keys)\n",
        "\n",
        "keys = dict1.keys()\n",
        "\n",
        "print(keys)"
      ],
      "metadata": {
        "colab": {
          "base_uri": "https://localhost:8080/"
        },
        "id": "xVkJtJQoXNrl",
        "outputId": "3c7909a5-50e3-4a2e-9ff0-798d0b7c200a"
      },
      "execution_count": 89,
      "outputs": [
        {
          "output_type": "stream",
          "name": "stdout",
          "text": [
            "dict_keys(['name', 'age', 'office', 'home', 'gender', 'dob'])\n",
            "dict_keys(['name', 'age', 'office', 'home', 'gender', 'dob'])\n"
          ]
        }
      ]
    },
    {
      "cell_type": "code",
      "source": [
        "lst1 = [1,2,3,4,5,6]\n",
        "lst2 = [1,2,3,4,5,6]\n",
        "# len - function\n",
        "len = len(lst1) # 6\n",
        "print(len)\n",
        "\n",
        "# len - integer\n",
        "len2 = len(lst2) # Error line, so don't use predefined functions/methods/classes as variabls\n",
        "\n",
        "print(len2)"
      ],
      "metadata": {
        "colab": {
          "base_uri": "https://localhost:8080/",
          "height": 253
        },
        "id": "A6IiUJ4TXXb1",
        "outputId": "2cbbc4cc-2853-40b9-d360-3e095e8c95eb"
      },
      "execution_count": 92,
      "outputs": [
        {
          "output_type": "stream",
          "name": "stdout",
          "text": [
            "6\n"
          ]
        },
        {
          "output_type": "error",
          "ename": "TypeError",
          "evalue": "ignored",
          "traceback": [
            "\u001b[0;31m---------------------------------------------------------------------------\u001b[0m",
            "\u001b[0;31mTypeError\u001b[0m                                 Traceback (most recent call last)",
            "\u001b[0;32m<ipython-input-92-1831f1522b63>\u001b[0m in \u001b[0;36m<module>\u001b[0;34m\u001b[0m\n\u001b[1;32m      7\u001b[0m \u001b[0;34m\u001b[0m\u001b[0m\n\u001b[1;32m      8\u001b[0m \u001b[0;31m# len - integer\u001b[0m\u001b[0;34m\u001b[0m\u001b[0;34m\u001b[0m\u001b[0;34m\u001b[0m\u001b[0m\n\u001b[0;32m----> 9\u001b[0;31m \u001b[0mlen2\u001b[0m \u001b[0;34m=\u001b[0m \u001b[0mlen\u001b[0m\u001b[0;34m(\u001b[0m\u001b[0mlst2\u001b[0m\u001b[0;34m)\u001b[0m \u001b[0;31m# Error line, so don't use predefined functions/methods/classes as variabls\u001b[0m\u001b[0;34m\u001b[0m\u001b[0;34m\u001b[0m\u001b[0m\n\u001b[0m\u001b[1;32m     10\u001b[0m \u001b[0;34m\u001b[0m\u001b[0m\n\u001b[1;32m     11\u001b[0m \u001b[0mprint\u001b[0m\u001b[0;34m(\u001b[0m\u001b[0mlen2\u001b[0m\u001b[0;34m)\u001b[0m\u001b[0;34m\u001b[0m\u001b[0;34m\u001b[0m\u001b[0m\n",
            "\u001b[0;31mTypeError\u001b[0m: 'int' object is not callable"
          ]
        }
      ]
    },
    {
      "cell_type": "code",
      "source": [
        "\"\"\"\n",
        "values() - Dictionary Class Predefined method\n",
        "  arguments - no args\n",
        "  return - all the values in the dictionary\n",
        "\"\"\"\n",
        "\n",
        "dict1 = {'name': 'Adi', 'age': 31, 'office': 'tpty', 'home': 'tpty', 'gender': 'male', 'dob': '1990-01-01'}\n",
        "\n",
        "dict1_values = dict1.values()\n",
        "\n",
        "# print(dict1_values)\n",
        "\n",
        "for value in dict1.values():\n",
        "  print(value)\n"
      ],
      "metadata": {
        "colab": {
          "base_uri": "https://localhost:8080/"
        },
        "id": "kplxqh2pYqMk",
        "outputId": "b652639b-9ea8-4ecc-8ca0-4590adff24c2"
      },
      "execution_count": 94,
      "outputs": [
        {
          "output_type": "stream",
          "name": "stdout",
          "text": [
            "Adi\n",
            "31\n",
            "tpty\n",
            "tpty\n",
            "male\n",
            "1990-01-01\n"
          ]
        }
      ]
    },
    {
      "cell_type": "code",
      "source": [
        "def check_even_odd(n):\n",
        "  if n % 2 == 0:\n",
        "    return n,\"Even\"\n",
        "  else:\n",
        "    return n,\"Odd\"\n",
        "\n",
        "# return type of above functions as a tuple\n",
        "number,result = check_even_odd(11)\n",
        "\n",
        "print(number,result)"
      ],
      "metadata": {
        "colab": {
          "base_uri": "https://localhost:8080/"
        },
        "id": "JY1pJqK5Zkd2",
        "outputId": "4a674086-21e8-41e3-82ec-7f2642fbba6d"
      },
      "execution_count": 95,
      "outputs": [
        {
          "output_type": "stream",
          "name": "stdout",
          "text": [
            "11 Odd\n"
          ]
        }
      ]
    },
    {
      "cell_type": "code",
      "source": [
        "\"\"\"\n",
        "items() - Dictionary Class Predefined method\n",
        "  arguments - no args\n",
        "  return - all the key,values in the dictionary object\n",
        "\"\"\"\n",
        "\n",
        "dict1 = {'name': 'Adi', 'age': 31, 'office': 'tpty', 'home': 'tpty', 'gender': 'male', 'dob': '1990-01-01'}\n",
        "\n",
        "dict_keys_values = dict1.items()\n",
        "\n",
        "print(dict_keys_values)"
      ],
      "metadata": {
        "colab": {
          "base_uri": "https://localhost:8080/"
        },
        "id": "rOcahY1JZrAi",
        "outputId": "be583c1e-d546-4d7e-a82f-659f67873192"
      },
      "execution_count": 97,
      "outputs": [
        {
          "output_type": "stream",
          "name": "stdout",
          "text": [
            "dict_items([('name', 'Adi'), ('age', 31), ('office', 'tpty'), ('home', 'tpty'), ('gender', 'male'), ('dob', '1990-01-01')])\n"
          ]
        }
      ]
    },
    {
      "cell_type": "code",
      "source": [
        "dict1 = {'name': 'Adi', 'age': 31, 'office': 'tpty', 'home': 'tpty', 'gender': 'male', 'dob': '1990-01-01'}\n",
        "\n",
        "for k,v in dict1.items(): # k,v => ('name': 'Adi')\n",
        "  print(k,\":\",v)"
      ],
      "metadata": {
        "colab": {
          "base_uri": "https://localhost:8080/"
        },
        "id": "A7p4DSyBbOWb",
        "outputId": "70c1d466-cecb-4a89-b61c-a35713f0a185"
      },
      "execution_count": 102,
      "outputs": [
        {
          "output_type": "stream",
          "name": "stdout",
          "text": [
            "name : Adi\n",
            "age : 31\n",
            "office : tpty\n",
            "home : tpty\n",
            "gender : male\n",
            "dob : 1990-01-01\n"
          ]
        }
      ]
    },
    {
      "cell_type": "code",
      "source": [
        "dict1 = {'name': 'Adi', 'age': 31, 'office': 'tpty', 'home': 'tpty', 'gender': 'male', 'dob': '1990-01-01'}\n",
        "\n",
        "for dict_key,dict_value in dict1.items(): # dict_key,dict_value => ('name': 'Adi')\n",
        "  print(dict_key,\":\",dict_value)"
      ],
      "metadata": {
        "colab": {
          "base_uri": "https://localhost:8080/"
        },
        "id": "uyv7Nr3-aIvh",
        "outputId": "e3571acb-0893-4b74-9bff-008b77fa56d5"
      },
      "execution_count": 101,
      "outputs": [
        {
          "output_type": "stream",
          "name": "stdout",
          "text": [
            "name : Adi\n",
            "age : 31\n",
            "office : tpty\n",
            "home : tpty\n",
            "gender : male\n",
            "dob : 1990-01-01\n"
          ]
        }
      ]
    },
    {
      "cell_type": "code",
      "source": [
        "lst1 = [1,2,3,4,5,6,6]\n",
        "\n",
        "search_val = 6\n",
        "\n",
        "for temp in lst1:\n",
        "  if search_val == temp:\n",
        "    print(search_val, \"Search values exists\")"
      ],
      "metadata": {
        "colab": {
          "base_uri": "https://localhost:8080/"
        },
        "id": "iUFoRsaEbWAE",
        "outputId": "bfa99a5d-e8c1-4e0f-cdd9-b5f7b3eeb69d"
      },
      "execution_count": 105,
      "outputs": [
        {
          "output_type": "stream",
          "name": "stdout",
          "text": [
            "6 Search values exists\n",
            "6 Search values exists\n"
          ]
        }
      ]
    },
    {
      "cell_type": "code",
      "source": [
        "lst1 = [1,2,3,4,5,6,6]\n",
        "\n",
        "search_ele = 4\n",
        "\n",
        "if lst in search_ele: # in lst1:\n",
        "  print(search_val, \"Search values exists\")"
      ],
      "metadata": {
        "colab": {
          "base_uri": "https://localhost:8080/",
          "height": 219
        },
        "id": "MrkOR90EcBud",
        "outputId": "b7747e20-f162-4143-b59d-0fa009e646bf"
      },
      "execution_count": 107,
      "outputs": [
        {
          "output_type": "error",
          "ename": "TypeError",
          "evalue": "ignored",
          "traceback": [
            "\u001b[0;31m---------------------------------------------------------------------------\u001b[0m",
            "\u001b[0;31mTypeError\u001b[0m                                 Traceback (most recent call last)",
            "\u001b[0;32m<ipython-input-107-d728f5fee35b>\u001b[0m in \u001b[0;36m<module>\u001b[0;34m\u001b[0m\n\u001b[1;32m      3\u001b[0m \u001b[0msearch_ele\u001b[0m \u001b[0;34m=\u001b[0m \u001b[0;36m4\u001b[0m\u001b[0;34m\u001b[0m\u001b[0;34m\u001b[0m\u001b[0m\n\u001b[1;32m      4\u001b[0m \u001b[0;34m\u001b[0m\u001b[0m\n\u001b[0;32m----> 5\u001b[0;31m \u001b[0;32mif\u001b[0m \u001b[0mlst\u001b[0m \u001b[0;32min\u001b[0m \u001b[0msearch_ele\u001b[0m\u001b[0;34m:\u001b[0m \u001b[0;31m# in lst1:\u001b[0m\u001b[0;34m\u001b[0m\u001b[0;34m\u001b[0m\u001b[0m\n\u001b[0m\u001b[1;32m      6\u001b[0m   \u001b[0mprint\u001b[0m\u001b[0;34m(\u001b[0m\u001b[0msearch_val\u001b[0m\u001b[0;34m,\u001b[0m \u001b[0;34m\"Search values exists\"\u001b[0m\u001b[0;34m)\u001b[0m\u001b[0;34m\u001b[0m\u001b[0;34m\u001b[0m\u001b[0m\n",
            "\u001b[0;31mTypeError\u001b[0m: argument of type 'int' is not iterable"
          ]
        }
      ]
    },
    {
      "cell_type": "code",
      "source": [
        "lst1 = [1,2,3,4,5,6]\n",
        "\n",
        "search_ele = 400\n",
        "\n",
        "if search_ele in lst: # in lst1:\n",
        "  print(search_ele, \"Search values exists\")\n",
        "else:\n",
        "  print(search_ele, \"Search values doesn't exists\")"
      ],
      "metadata": {
        "colab": {
          "base_uri": "https://localhost:8080/"
        },
        "id": "EVNW8Dhnc-zr",
        "outputId": "9a33f3fe-d4a1-405c-8318-e66eeb8074c7"
      },
      "execution_count": 112,
      "outputs": [
        {
          "output_type": "stream",
          "name": "stdout",
          "text": [
            "400 Search values doesn't exists\n"
          ]
        }
      ]
    }
  ]
}