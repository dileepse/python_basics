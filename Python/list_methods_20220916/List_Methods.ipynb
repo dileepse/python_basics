{
  "nbformat": 4,
  "nbformat_minor": 0,
  "metadata": {
    "colab": {
      "provenance": [],
      "collapsed_sections": []
    },
    "kernelspec": {
      "name": "python3",
      "display_name": "Python 3"
    },
    "language_info": {
      "name": "python"
    }
  },
  "cells": [
    {
      "cell_type": "code",
      "source": [
        "\"\"\"\n",
        "List Methods - \n",
        "\n",
        "append()\n",
        "\n",
        "clear()\n",
        "\n",
        "copy()\n",
        "\n",
        "count() - Returns the number of elements with the specified value\n",
        "\n",
        "extend()\n",
        "\n",
        "index() - Returns the index of the first element with the specified value\n",
        "\n",
        "insert() - \tAdds an element at the specified position\n",
        "\n",
        "pop() - Removes the element at the specified position\n",
        "\n",
        "remove() - Removes the first item with the specified value\n",
        "\n",
        "reverse() - \n",
        "\n",
        "sort() - \n",
        "\n",
        "\"\"\""
      ],
      "metadata": {
        "id": "3adCz6A1D3SU"
      },
      "execution_count": null,
      "outputs": []
    },
    {
      "cell_type": "code",
      "execution_count": 2,
      "metadata": {
        "id": "et7Th0s3DLsR"
      },
      "outputs": [],
      "source": [
        "\"\"\"\n",
        "Methods\n",
        "  Description : \n",
        "  Arguments :\n",
        "  Return Value/Type : \n",
        "\"\"\"\n",
        "\n",
        "lst1 = [1,2,3,4,5,6,7,8]\n",
        "\n",
        "lst2 = [10,20,30,40,50,60,70]\n",
        "\n",
        "names = [\"Adi\",\"Chandu\"]\n",
        "\n",
        "cities = [\"Ongole\", \"Hyderabad\",\"Tirupati\"]"
      ]
    },
    {
      "cell_type": "code",
      "source": [
        "\n",
        "\n",
        "\"\"\"\n",
        "Functions -\n",
        "min()\n",
        "max()\n",
        "len()\n",
        "sum()\n",
        "\"\"\"\n",
        "\n",
        "lst2 = [10,20,30,40,50,60,70]\n",
        "\n",
        "print(min(lst2))\n",
        "\n",
        "print(max(lst2))\n",
        "\n",
        "print(len(lst2))\n",
        "\n",
        "print(sum(lst2))"
      ],
      "metadata": {
        "colab": {
          "base_uri": "https://localhost:8080/"
        },
        "id": "rLNLBa5OFdGW",
        "outputId": "b47ecc74-e61b-4730-f5c4-a3aa270a04a3"
      },
      "execution_count": 13,
      "outputs": [
        {
          "output_type": "stream",
          "name": "stdout",
          "text": [
            "10\n",
            "70\n",
            "7\n",
            "280\n"
          ]
        }
      ]
    },
    {
      "cell_type": "code",
      "source": [
        "\"\"\"\n",
        "Method Calling - variable =  object_name.methods_name(args if any)\n",
        "Methods - append()\n",
        "  Description : Adds the provided at the end of the list\n",
        "  Arguments : any element which you want to add\n",
        "  Return Value/Type : None\n",
        "\"\"\"\n",
        "\n",
        "lst1 = [1,2,3,4,5,6,7,8]\n",
        "\n",
        "print(lst1)\n",
        "\n",
        "lst1.append(10)\n",
        "print(lst1)\n",
        "print(min(lst1))"
      ],
      "metadata": {
        "colab": {
          "base_uri": "https://localhost:8080/"
        },
        "id": "Gzc-ZhwLEVKR",
        "outputId": "8f032918-b436-4661-8291-eae647c0d0f0"
      },
      "execution_count": 7,
      "outputs": [
        {
          "output_type": "stream",
          "name": "stdout",
          "text": [
            "[1, 2, 3, 4, 5, 6, 7, 8]\n",
            "[1, 2, 3, 4, 5, 6, 7, 8, 10]\n",
            "1\n"
          ]
        }
      ]
    },
    {
      "cell_type": "code",
      "source": [
        "lst1 = [1,2,3,4,5,6,7,8]\n",
        "\n",
        "lst1.append(10)\n",
        "\n",
        "print(lst1)\n"
      ],
      "metadata": {
        "colab": {
          "base_uri": "https://localhost:8080/"
        },
        "id": "MFv0nAlrHIzB",
        "outputId": "e7b3ceea-240e-4dfa-8aca-83bb75f8ad2a"
      },
      "execution_count": 14,
      "outputs": [
        {
          "output_type": "stream",
          "name": "stdout",
          "text": [
            "[1, 2, 3, 4, 5, 6, 7, 8, 10]\n"
          ]
        }
      ]
    },
    {
      "cell_type": "code",
      "source": [
        "\"\"\"\n",
        "General Method Calling - variable(LHS) =  object_name.methods_name(args if any) (RHS)\n",
        "Methods - clear()\n",
        "  Description : Clears/Removes all the list elements \n",
        "  Arguments : No Arguments\n",
        "  Return Value/Type : None\n",
        "\"\"\"\n",
        "\n",
        "lst1 = [1,2,3,4,5,6,7,8]\n",
        "\n",
        "lst1.append(10)\n",
        "\n",
        "print(lst1)\n",
        "\n",
        "lst1.clear()\n",
        "\n",
        "print(lst1)"
      ],
      "metadata": {
        "colab": {
          "base_uri": "https://localhost:8080/"
        },
        "id": "yJc0VRajH5qe",
        "outputId": "1819e2b8-3329-43df-f134-5a4de589d848"
      },
      "execution_count": 16,
      "outputs": [
        {
          "output_type": "stream",
          "name": "stdout",
          "text": [
            "[1, 2, 3, 4, 5, 6, 7, 8, 10]\n",
            "[]\n"
          ]
        }
      ]
    },
    {
      "cell_type": "code",
      "source": [
        "\"\"\"\n",
        "Deep Copy vs Shallow Copy\n",
        "General Method Calling - variable(LHS) =  object_name.methods_name(args if any) (RHS)\n",
        "Methods - copy() - It does a shallow\n",
        "  Description : Used to copy the list contents into another list but with a different address/reference\n",
        "  Arguments : No Arguments\n",
        "  Return : Returns a shallow copy of the list\n",
        "\"\"\"\n",
        "\n",
        "\n",
        "lst1 = [1,2,3,4,5]\n",
        "\n",
        "lst2 = lst1.copy()\n",
        "\n",
        "lst2.append(6)\n",
        "\n",
        "print(lst1, lst2)\n",
        "print(id(lst1), id(lst2))\n"
      ],
      "metadata": {
        "colab": {
          "base_uri": "https://localhost:8080/"
        },
        "id": "cQg6wigZIupm",
        "outputId": "be33a52a-ab81-405e-db48-f760f698ada1"
      },
      "execution_count": 19,
      "outputs": [
        {
          "output_type": "stream",
          "name": "stdout",
          "text": [
            "[1, 2, 3, 4, 5] [1, 2, 3, 4, 5, 6]\n",
            "140400225113184 140400342595776\n"
          ]
        }
      ]
    },
    {
      "cell_type": "code",
      "source": [
        "\"\"\"\n",
        "General Method Calling - variable(LHS) =  object_name.methods_name(args if any) (RHS)\n",
        "Methods - count()\n",
        "  Description : Used to find the occurence of any element provided as arguments\n",
        "  Arguments : any elements you want to search or find for its occurence\n",
        "  Return Value/Type : integer value, i.e. no.of time given element present\n",
        "\"\"\"\n",
        "\n",
        "lst1 = [1, 2, 3, 4, 5, 6,2,3,2,3,2,3,2]\n",
        "\n",
        "count_2 = lst1.count(2)\n",
        "\n",
        "count_100 = lst1.count(100)\n",
        "\n",
        "print(count_2, count_100)"
      ],
      "metadata": {
        "colab": {
          "base_uri": "https://localhost:8080/"
        },
        "id": "HUPK8E01LwUP",
        "outputId": "3a0d761b-5301-4c43-f05d-4a29aacda11c"
      },
      "execution_count": 24,
      "outputs": [
        {
          "output_type": "stream",
          "name": "stdout",
          "text": [
            "5 0\n"
          ]
        }
      ]
    },
    {
      "cell_type": "code",
      "source": [
        "\"\"\"\n",
        "General Method Calling - variable(LHS) =  object_name.methods_name(args if any) (RHS)\n",
        "Methods - extend()\n",
        "  Description : Used to find the occurence of any element provided as arguments\n",
        "  Arguments : any elements you want to search or find for its occurence\n",
        "  Return Value/Type : integer value, i.e. no.of time given element present\n",
        "\"\"\"\n",
        "lst1 = [1, 2, 3, 4, 5]\n",
        "lst2 = [10,20,30,40,50]\n",
        "\n",
        "lst1.append(lst2) # [1, 2, 3, 4, 5, [10,20,30,40,50] ]\n",
        "\n",
        "print(len(lst1))\n",
        "print(lst1)\n"
      ],
      "metadata": {
        "colab": {
          "base_uri": "https://localhost:8080/"
        },
        "id": "7BMXq5NhMzKO",
        "outputId": "9f1ba9f0-e169-42ab-f40a-b08d620b36db"
      },
      "execution_count": 25,
      "outputs": [
        {
          "output_type": "stream",
          "name": "stdout",
          "text": [
            "6\n",
            "[1, 2, 3, 4, 5, [10, 20, 30, 40, 50]]\n"
          ]
        }
      ]
    },
    {
      "cell_type": "code",
      "source": [
        "\"\"\"\n",
        "General Method Calling - variable(LHS) =  object_name.methods_name(args if any) (RHS)\n",
        "Methods - extend()\n",
        "  Description : Appends the elements in the iterable passed to the calling object(list)\n",
        "  Arguments : Iterable\n",
        "  Return Value/Type : None\n",
        "\"\"\"\n",
        "lst1 = [1, 2, 3, 4, 5]\n",
        "lst2 = [10,20,30,40,50]\n",
        "\n",
        "lst1.extend(\"Adi\") # [1, 2, 3, 4, 5, 10,20,30,40,50]\n",
        "\n",
        "print(len(lst1))\n",
        "print(lst1)"
      ],
      "metadata": {
        "colab": {
          "base_uri": "https://localhost:8080/"
        },
        "id": "yLVGnwOqN5Iq",
        "outputId": "6a26d58d-209e-478f-8b30-328facd0dd4d"
      },
      "execution_count": 31,
      "outputs": [
        {
          "output_type": "stream",
          "name": "stdout",
          "text": [
            "8\n",
            "[1, 2, 3, 4, 5, 'A', 'd', 'i']\n"
          ]
        }
      ]
    },
    {
      "cell_type": "code",
      "source": [
        "str1 = \"Python\"\n",
        "\n",
        "for temp in str1:\n",
        "  print(temp)"
      ],
      "metadata": {
        "colab": {
          "base_uri": "https://localhost:8080/"
        },
        "id": "E9dJX9WbOEAo",
        "outputId": "988612c6-2552-4d95-9b12-0990e10c9b5e"
      },
      "execution_count": 28,
      "outputs": [
        {
          "output_type": "stream",
          "name": "stdout",
          "text": [
            "P\n",
            "y\n",
            "t\n",
            "h\n",
            "o\n",
            "n\n"
          ]
        }
      ]
    },
    {
      "cell_type": "code",
      "source": [
        "\"\"\"\n",
        "index() - Returns the index of the first element with the specified value\n",
        "\n",
        "General Method Calling - variable(LHS) =  object_name.methods_name(args if any) (RHS)\n",
        "Methods - index()\n",
        "  Description :  Returns the index of the first element with the specified value\n",
        "  Arguments : element in the list for which you need index\n",
        "  Return Value/Type : Index Number(Integer) if element available, Error if element not available\n",
        "\n",
        "\"\"\"\n",
        "\n",
        "lst1 = [10,20,30,40,50]\n",
        "\n",
        "index_10 = lst1.index(10)\n",
        "\n",
        "print(index_10)"
      ],
      "metadata": {
        "colab": {
          "base_uri": "https://localhost:8080/"
        },
        "id": "fZKKpxZTMgiL",
        "outputId": "4404367e-ecdd-4dc8-ea6a-91a095f1710c"
      },
      "execution_count": 32,
      "outputs": [
        {
          "output_type": "stream",
          "name": "stdout",
          "text": [
            "0\n"
          ]
        }
      ]
    },
    {
      "cell_type": "code",
      "source": [
        "lst1 = [10,20,30,40,50]\n",
        "\n",
        "index_10 = lst1.index(100)\n",
        "\n",
        "print(index_10)"
      ],
      "metadata": {
        "colab": {
          "base_uri": "https://localhost:8080/",
          "height": 236
        },
        "id": "fO2mTjZJP2Ut",
        "outputId": "f3d8d8cb-a8a6-4ac2-ec93-81bab561f1c7"
      },
      "execution_count": 33,
      "outputs": [
        {
          "output_type": "error",
          "ename": "ValueError",
          "evalue": "ignored",
          "traceback": [
            "\u001b[0;31m---------------------------------------------------------------------------\u001b[0m",
            "\u001b[0;31mValueError\u001b[0m                                Traceback (most recent call last)",
            "\u001b[0;32m<ipython-input-33-b12e6100cb29>\u001b[0m in \u001b[0;36m<module>\u001b[0;34m\u001b[0m\n\u001b[1;32m      1\u001b[0m \u001b[0mlst1\u001b[0m \u001b[0;34m=\u001b[0m \u001b[0;34m[\u001b[0m\u001b[0;36m10\u001b[0m\u001b[0;34m,\u001b[0m\u001b[0;36m20\u001b[0m\u001b[0;34m,\u001b[0m\u001b[0;36m30\u001b[0m\u001b[0;34m,\u001b[0m\u001b[0;36m40\u001b[0m\u001b[0;34m,\u001b[0m\u001b[0;36m50\u001b[0m\u001b[0;34m]\u001b[0m\u001b[0;34m\u001b[0m\u001b[0;34m\u001b[0m\u001b[0m\n\u001b[1;32m      2\u001b[0m \u001b[0;34m\u001b[0m\u001b[0m\n\u001b[0;32m----> 3\u001b[0;31m \u001b[0mindex_10\u001b[0m \u001b[0;34m=\u001b[0m \u001b[0mlst1\u001b[0m\u001b[0;34m.\u001b[0m\u001b[0mindex\u001b[0m\u001b[0;34m(\u001b[0m\u001b[0;36m100\u001b[0m\u001b[0;34m)\u001b[0m\u001b[0;34m\u001b[0m\u001b[0;34m\u001b[0m\u001b[0m\n\u001b[0m\u001b[1;32m      4\u001b[0m \u001b[0;34m\u001b[0m\u001b[0m\n\u001b[1;32m      5\u001b[0m \u001b[0mprint\u001b[0m\u001b[0;34m(\u001b[0m\u001b[0mindex_10\u001b[0m\u001b[0;34m)\u001b[0m\u001b[0;34m\u001b[0m\u001b[0;34m\u001b[0m\u001b[0m\n",
            "\u001b[0;31mValueError\u001b[0m: 100 is not in list"
          ]
        }
      ]
    },
    {
      "cell_type": "code",
      "source": [
        "lst1 = [20,30,40,50,20,30,10,10]\n",
        "\n",
        "index_10 = lst1.index(10)\n",
        "\n",
        "print(index_10)"
      ],
      "metadata": {
        "colab": {
          "base_uri": "https://localhost:8080/"
        },
        "id": "9BpcYqmJP_eX",
        "outputId": "8ca0cd10-7970-4e6e-fa0c-a7809b9d223e"
      },
      "execution_count": 36,
      "outputs": [
        {
          "output_type": "stream",
          "name": "stdout",
          "text": [
            "6\n"
          ]
        }
      ]
    },
    {
      "cell_type": "code",
      "source": [
        "\n",
        "\"\"\"\n",
        "insert() - \tAdds an element at the specified position\n",
        "General Method Calling - variable(LHS) =  object_name.methods_name(args if any) (RHS)\n",
        "Methods - insert()\n",
        "  Description :  Adds an element at the specified index\n",
        "  Arguments : 2 arguments(index where we want to insert and element which we want to insert)\n",
        "  Return Value/Type : None\n",
        "\n",
        "\"\"\"\n",
        "\n",
        "lst1 = [10,20,30,40,50,60]\n",
        "\n",
        "lst1.insert(2,123)\n",
        "\n",
        "print(lst1[2])\n",
        "\n"
      ],
      "metadata": {
        "colab": {
          "base_uri": "https://localhost:8080/"
        },
        "id": "RAqw0gsYQVVo",
        "outputId": "86f8296f-ee43-4143-f00e-4d5bf6494bbb"
      },
      "execution_count": 44,
      "outputs": [
        {
          "output_type": "stream",
          "name": "stdout",
          "text": [
            "123\n"
          ]
        }
      ]
    },
    {
      "cell_type": "code",
      "source": [
        "\n",
        "\"\"\"\n",
        "\n",
        "General Method Calling - variable(LHS) =  object_name.methods_name(args if any) (RHS)\n",
        "Methods - pop()\n",
        "  Description :  Removes the element at the specified index\n",
        "  Arguments : No Mandatory arguments Optionally ou can pass the index where you want to remove the element\n",
        "  Return Value/Type : Returns the element which it removes(Can be an integer or string or any thing as it is)\n",
        "\"\"\"\n",
        "lst1 = [10,20,30,40,50,60]\n",
        "\n",
        "ele = lst1.pop(2)\n",
        "\n",
        "print(ele)\n",
        "\n",
        "print(lst1)"
      ],
      "metadata": {
        "colab": {
          "base_uri": "https://localhost:8080/"
        },
        "id": "iTIFiWVwQZ02",
        "outputId": "2ccf9b7c-fcd5-4515-9ecd-c60467f89603"
      },
      "execution_count": 45,
      "outputs": [
        {
          "output_type": "stream",
          "name": "stdout",
          "text": [
            "30\n",
            "[10, 20, 40, 50, 60]\n"
          ]
        }
      ]
    },
    {
      "cell_type": "code",
      "source": [
        "lst1 = [10,20,30,40,50,60]\n",
        "\n",
        "ele = lst1.pop()\n",
        "\n",
        "print(ele)\n",
        "\n",
        "print(lst1)"
      ],
      "metadata": {
        "colab": {
          "base_uri": "https://localhost:8080/"
        },
        "id": "7cmqswOtT6KX",
        "outputId": "29a317ac-3bfd-469b-8d2c-8364df123951"
      },
      "execution_count": 46,
      "outputs": [
        {
          "output_type": "stream",
          "name": "stdout",
          "text": [
            "60\n",
            "[10, 20, 30, 40, 50]\n"
          ]
        }
      ]
    },
    {
      "cell_type": "code",
      "source": [
        "\"\"\"\n",
        "\n",
        "General Method Calling - variable(LHS) =  object_name.methods_name(args if any) (RHS)\n",
        "Methods - remove()\n",
        "  Description :  Removes the first occurence with the specified value\n",
        "  Arguments : Element you want to remove\n",
        "  Return Value/Type : None if element available, if element not available returns ValueError\n",
        "\"\"\"\n",
        "\n",
        "lst1 = [10,20,30,40,50,60]\n",
        "\n",
        "lst1.remove(40)\n",
        "\n",
        "print(lst1)"
      ],
      "metadata": {
        "colab": {
          "base_uri": "https://localhost:8080/"
        },
        "id": "943bP8AySzHd",
        "outputId": "8bb444cd-1b96-4b50-b488-4a7be166b962"
      },
      "execution_count": 48,
      "outputs": [
        {
          "output_type": "stream",
          "name": "stdout",
          "text": [
            "[10, 20, 30, 50, 60]\n"
          ]
        }
      ]
    },
    {
      "cell_type": "code",
      "source": [
        "lst1 = [10,20,30,40,50,60]\n",
        "\n",
        "lst1.remove(400)\n",
        "\n",
        "print(lst1)"
      ],
      "metadata": {
        "id": "xH3tGIqiVAlz"
      },
      "execution_count": null,
      "outputs": []
    },
    {
      "cell_type": "code",
      "source": [
        "\"\"\"\n",
        "\n",
        "General Method Calling - variable(LHS) =  object_name.methods_name(args if any) (RHS)\n",
        "Methods - reverse()\n",
        "  Description :  Reverse the order of elements in the list\n",
        "  Arguments : No Positional Arguments\n",
        "  Return Value/Type : None\n",
        "\"\"\"\n",
        "\n",
        "lst1 = [10,20,30,40,50,60]\n",
        "\n",
        "lst1.reverse()\n",
        "\n",
        "print(lst1)\n"
      ],
      "metadata": {
        "colab": {
          "base_uri": "https://localhost:8080/"
        },
        "id": "YgXGXEaBVTNA",
        "outputId": "6aeecddd-194e-4c93-c74a-cb8057c58c5b"
      },
      "execution_count": 52,
      "outputs": [
        {
          "output_type": "stream",
          "name": "stdout",
          "text": [
            "[60, 50, 40, 30, 20, 10]\n"
          ]
        }
      ]
    },
    {
      "cell_type": "code",
      "source": [
        "\"\"\"\n",
        "\n",
        "General Method Calling - variable(LHS) =  object_name.methods_name(args if any) (RHS)\n",
        "Methods - sort()\n",
        "  Description :  Sort Elements in the list\n",
        "  Arguments : No Positional/Mandatory Arguments Required\n",
        "  Return Value/Type : None\n",
        "\"\"\"\n",
        "\n",
        "lst1 = [10,6,90,33,9999,45,76,38,44]\n",
        "\n",
        "lst1.sort()\n",
        "\n",
        "print(lst1)"
      ],
      "metadata": {
        "colab": {
          "base_uri": "https://localhost:8080/"
        },
        "id": "stEUJDaGV4xz",
        "outputId": "e0809f02-fed0-42bd-e801-e3b85ca0e55d"
      },
      "execution_count": 54,
      "outputs": [
        {
          "output_type": "stream",
          "name": "stdout",
          "text": [
            "[6, 10, 33, 38, 44, 45, 76, 90, 9999]\n"
          ]
        }
      ]
    },
    {
      "cell_type": "code",
      "source": [
        "lst1 = [10,6,90,33,9999,45,76,38,44]\n",
        "\n",
        "lst1.sort(reverse=True)\n",
        "\n",
        "print(lst1)"
      ],
      "metadata": {
        "colab": {
          "base_uri": "https://localhost:8080/"
        },
        "id": "AJWhwpifWu24",
        "outputId": "021cecfa-37e7-4842-a411-fb7b91e11ba1"
      },
      "execution_count": 56,
      "outputs": [
        {
          "output_type": "stream",
          "name": "stdout",
          "text": [
            "[9999, 90, 76, 45, 44, 38, 33, 10, 6]\n"
          ]
        }
      ]
    },
    {
      "cell_type": "code",
      "source": [
        "\"\"\"\n",
        "Programming Aptitude\n",
        "Functions\n",
        "count()\n",
        "extend()\n",
        "index()\n",
        "insert() \n",
        "pop()\n",
        "remove()\n",
        "reverse()\n",
        "sort() - Will take\n",
        "\n",
        "Class MyList -\n",
        "  Functions\n",
        "  count()\n",
        "  extend()\n",
        "  index()\n",
        "  insert() \n",
        "  pop()\n",
        "  remove()\n",
        "  reverse()\n",
        "  sort() \n",
        "\n",
        "1.] Problem Statement\n",
        "2.] Logic - 10 mins/15 mins\n",
        "3.] Code/Syntax Implementation\n",
        "\"\"\""
      ],
      "metadata": {
        "id": "7ZfhzHBJXXGH"
      },
      "execution_count": null,
      "outputs": []
    }
  ]
}