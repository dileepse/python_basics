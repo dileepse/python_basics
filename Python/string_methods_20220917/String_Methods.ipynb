{
  "nbformat": 4,
  "nbformat_minor": 0,
  "metadata": {
    "colab": {
      "provenance": [],
      "collapsed_sections": []
    },
    "kernelspec": {
      "name": "python3",
      "display_name": "Python 3"
    },
    "language_info": {
      "name": "python"
    }
  },
  "cells": [
    {
      "cell_type": "code",
      "execution_count": null,
      "metadata": {
        "id": "ruQrch3V1kKP"
      },
      "outputs": [],
      "source": [
        "\"\"\"\n",
        "String Methods\n",
        "\n",
        "capitalize()\n",
        "\n",
        "count()\n",
        "\n",
        "startswith()\n",
        "\n",
        "endswith()\n",
        "\n",
        "find()\n",
        "\n",
        "format()\n",
        "\n",
        "index()\n",
        "\n",
        "isalnum()\n",
        "\n",
        "isalpha()\n",
        "\n",
        "split()\n",
        "\n",
        "join()\n",
        "\n",
        "zfill()\n",
        "\"\"\""
      ]
    },
    {
      "cell_type": "code",
      "source": [
        "for temp in 'Adi':\n",
        "  print(temp)"
      ],
      "metadata": {
        "colab": {
          "base_uri": "https://localhost:8080/"
        },
        "id": "Dfh9LTrz5RWV",
        "outputId": "b4e9ca5f-9c7e-40a5-f750-00b35d7ca4f3"
      },
      "execution_count": 15,
      "outputs": [
        {
          "output_type": "stream",
          "name": "stdout",
          "text": [
            "A\n",
            "d\n",
            "i\n"
          ]
        }
      ]
    },
    {
      "cell_type": "code",
      "source": [
        "\"\"\"\n",
        "Iterables - list, range, string,\n",
        "List - Mutable - Can be modified without re-assignment\n",
        "String - Immutable - Must be re-assigned to another variable or same variable after applying string methods\n",
        "\"\"\""
      ],
      "metadata": {
        "id": "Y79WAWT85Aru"
      },
      "execution_count": null,
      "outputs": []
    },
    {
      "cell_type": "code",
      "source": [
        "\n",
        "a = 10\n",
        "b = 10\n",
        "print(id(a))\n",
        "print(id(b))"
      ],
      "metadata": {
        "colab": {
          "base_uri": "https://localhost:8080/"
        },
        "id": "zZbiLcBP7SCF",
        "outputId": "bb372e9c-ca32-439e-f296-5e2ced0b3949"
      },
      "execution_count": 94,
      "outputs": [
        {
          "output_type": "stream",
          "name": "stdout",
          "text": [
            "11122880\n",
            "11122880\n"
          ]
        }
      ]
    },
    {
      "cell_type": "code",
      "source": [
        "lst1 = [1,2,3,4,5,6,7,8]\n",
        "\n",
        "print(id(lst1))\n",
        "\n",
        "lst1.append(10)\n",
        "\n",
        "print(id(lst1))"
      ],
      "metadata": {
        "colab": {
          "base_uri": "https://localhost:8080/"
        },
        "id": "k944cj4j7gd2",
        "outputId": "a7ba5e1a-6342-43a4-ebae-68abd7d8a0c7"
      },
      "execution_count": 29,
      "outputs": [
        {
          "output_type": "stream",
          "name": "stdout",
          "text": [
            "140301857135664\n",
            "140301857135664\n"
          ]
        }
      ]
    },
    {
      "cell_type": "code",
      "source": [
        "str1 = \"python is easy\"\n",
        "print(id(str1))\n",
        "\n",
        "str1 = str1.capitalize()\n",
        "print(id(str1))"
      ],
      "metadata": {
        "colab": {
          "base_uri": "https://localhost:8080/"
        },
        "id": "1Gk6k7f48yvM",
        "outputId": "7787c939-acb1-4d4f-c256-7c679bc2cf41"
      },
      "execution_count": 30,
      "outputs": [
        {
          "output_type": "stream",
          "name": "stdout",
          "text": [
            "140301857161456\n",
            "140301856683760\n"
          ]
        }
      ]
    },
    {
      "cell_type": "code",
      "source": [
        "\"\"\"\n",
        "Method Calling - variable =  object_name.methods_name(args if any)\n",
        "Methods - capitalize()\n",
        "  Description : converts first character in your string to capital\n",
        "  Arguments : No Args\n",
        "  Return Value/Type : Capitalised string \n",
        "\"\"\"\n",
        "str1 = \"python is easy\"\n",
        "\n",
        "str2 = str1.capitalize()\n",
        "\n",
        "print(str1)\n",
        "\n",
        "print(str2)"
      ],
      "metadata": {
        "colab": {
          "base_uri": "https://localhost:8080/"
        },
        "id": "DuCwO4Yo-te6",
        "outputId": "36c55740-1382-4b4d-9967-0ecae91373c4"
      },
      "execution_count": 31,
      "outputs": [
        {
          "output_type": "stream",
          "name": "stdout",
          "text": [
            "python is easy\n",
            "Python is easy\n"
          ]
        }
      ]
    },
    {
      "cell_type": "code",
      "source": [
        "\"\"\"\n",
        "Method Calling - variable =  object_name.methods_name(args if any)\n",
        "Methods - count()\n",
        "  Description : Returns occurences/count of the given string in arguments\n",
        "  Arguments : any string or character which you want to search\n",
        "  Return Value/Type : Number\n",
        "\"\"\"\n",
        "\n",
        "str1 = \"python is easy easy\"\n",
        "\n",
        "cnt = str1.count('s')\n",
        "\n",
        "print(str1)\n",
        "\n",
        "print(cnt)\n",
        "\n",
        "\n",
        "str1 = \"python is easy easy\"\n",
        "\n",
        "cnt = str1.count('easy')\n",
        "\n",
        "print(str1)\n",
        "\n",
        "print(cnt)"
      ],
      "metadata": {
        "colab": {
          "base_uri": "https://localhost:8080/"
        },
        "id": "etoU1E9u-65Q",
        "outputId": "5843fc1d-a668-4255-fc9e-b1da80fabd0c"
      },
      "execution_count": 34,
      "outputs": [
        {
          "output_type": "stream",
          "name": "stdout",
          "text": [
            "python is easy easy\n",
            "3\n",
            "python is easy easy\n",
            "2\n"
          ]
        }
      ]
    },
    {
      "cell_type": "code",
      "source": [
        "\"\"\"\n",
        "Method Calling - variable =  object_name.methods_name(args if any)\n",
        "Methods - startswith()\n",
        "  Description : Check if the input string start with the given string in arguments\n",
        "  Arguments : any string or character which you want to search\n",
        "  Return Value/Type : Returns either true or false\n",
        "\"\"\"\n",
        "\n",
        "str1 = \"python is easy easy\"\n",
        "\n",
        "result1 = str1.startswith(\"py\")\n",
        "\n",
        "result2 = str1.startswith(\"sql\")\n",
        "\n",
        "print(result1, result2)"
      ],
      "metadata": {
        "id": "S92lAuzAAeLg"
      },
      "execution_count": null,
      "outputs": []
    },
    {
      "cell_type": "code",
      "source": [
        "\"\"\"\n",
        "Method Calling - variable =  object_name.methods_name(args if any)\n",
        "Methods - endswith()\n",
        "  Description : Check if the input string ends with the given string in arguments\n",
        "  Arguments : any string or character which you want to search\n",
        "  Return Value/Type : Returns either true or false\n",
        "\"\"\"\n",
        "\n",
        "str1 = \"python is easy easy\"\n",
        "\n",
        "result1 = str1.endswith(\"easy\")\n",
        "\n",
        "result2 = str1.endswith(\"sql\")\n",
        "\n",
        "print(result1, result2)"
      ],
      "metadata": {
        "colab": {
          "base_uri": "https://localhost:8080/"
        },
        "id": "-P7JWNYRAvxN",
        "outputId": "b6bbdff1-d3e5-4b84-9d0c-770b2972ac1d"
      },
      "execution_count": 38,
      "outputs": [
        {
          "output_type": "stream",
          "name": "stdout",
          "text": [
            "True False\n"
          ]
        }
      ]
    },
    {
      "cell_type": "code",
      "source": [
        "\"\"\"\n",
        "Method Calling - variable =  object_name.methods_name(args if any)\n",
        "Methods - find()\n",
        "  Description : Returns the starting index for first occurence of the string provided in arguments from the main string\n",
        "  Arguments : any string or character which you want to search\n",
        "  Return Value/Type : Returns index of its occurence, if not available returns -1\n",
        "\"\"\"\n",
        "\n",
        "str1 = \"python is easy easy\"\n",
        "\n",
        "result1 = str1.find(\"easy\")\n",
        "\n",
        "print(result1)\n",
        "\n",
        "result1 = str1.find(\"sql\")\n",
        "\n",
        "print(result1)"
      ],
      "metadata": {
        "colab": {
          "base_uri": "https://localhost:8080/"
        },
        "id": "2htIt3WRAxsA",
        "outputId": "24a9ecd6-2c1c-4f30-9ee9-80171741bc71"
      },
      "execution_count": 41,
      "outputs": [
        {
          "output_type": "stream",
          "name": "stdout",
          "text": [
            "10\n",
            "-1\n"
          ]
        }
      ]
    },
    {
      "cell_type": "code",
      "source": [
        "\"\"\"\n",
        "Method Calling - variable =  object_name.methods_name(args if any)\n",
        "Methods - format()\n",
        "  Description : Replace the {} with provided values in arguments of format\n",
        "  Arguments : Any number of arguments and anything based on your need/requirement\n",
        "  Return Value/Type : Returns a string after replacing with the values in the arguments\n",
        "\"\"\"\n",
        "\n",
        "str1 = \"I am {name}, I am learning {language}\"\n",
        "\n",
        "str2 = str1.format(name = \"Adi\", language = \"SQL\")\n",
        "\n",
        "print(str1)\n",
        "\n",
        "print(str2)"
      ],
      "metadata": {
        "colab": {
          "base_uri": "https://localhost:8080/"
        },
        "id": "54pyy4EHB2ar",
        "outputId": "3837dbc6-9416-4720-be1d-1886be8326af"
      },
      "execution_count": 43,
      "outputs": [
        {
          "output_type": "stream",
          "name": "stdout",
          "text": [
            "I am {name}, I am learning {language}\n",
            "I am Adi, I am learning SQL\n"
          ]
        }
      ]
    },
    {
      "cell_type": "code",
      "source": [
        "\"\"\"\n",
        "Method Calling - variable =  object_name.methods_name(args if any)\n",
        "Methods - index()\n",
        "  Description : \n",
        "  Arguments : \n",
        "  Return Value/Type : \n",
        "\"\"\"\n",
        "str1 = \"I am Adi, I am learning SQL\"\n",
        "\n",
        "result1 = str1.find(\"Narayana\")\n",
        "print(result1)\n",
        "result2 = str1.index(\"Narayana\")\n",
        "\n",
        "print(result2)\n",
        "\n",
        "help(str1.find)"
      ],
      "metadata": {
        "colab": {
          "base_uri": "https://localhost:8080/",
          "height": 253
        },
        "id": "qxZIKctoC-ic",
        "outputId": "cca06134-b5f2-4aca-ce2d-023dc659bec5"
      },
      "execution_count": 52,
      "outputs": [
        {
          "output_type": "stream",
          "name": "stdout",
          "text": [
            "-1\n"
          ]
        },
        {
          "output_type": "error",
          "ename": "ValueError",
          "evalue": "ignored",
          "traceback": [
            "\u001b[0;31m---------------------------------------------------------------------------\u001b[0m",
            "\u001b[0;31mValueError\u001b[0m                                Traceback (most recent call last)",
            "\u001b[0;32m<ipython-input-52-f2c48befce94>\u001b[0m in \u001b[0;36m<module>\u001b[0;34m\u001b[0m\n\u001b[1;32m     10\u001b[0m \u001b[0mresult1\u001b[0m \u001b[0;34m=\u001b[0m \u001b[0mstr1\u001b[0m\u001b[0;34m.\u001b[0m\u001b[0mfind\u001b[0m\u001b[0;34m(\u001b[0m\u001b[0;34m\"Narayana\"\u001b[0m\u001b[0;34m)\u001b[0m\u001b[0;34m\u001b[0m\u001b[0;34m\u001b[0m\u001b[0m\n\u001b[1;32m     11\u001b[0m \u001b[0mprint\u001b[0m\u001b[0;34m(\u001b[0m\u001b[0mresult1\u001b[0m\u001b[0;34m)\u001b[0m\u001b[0;34m\u001b[0m\u001b[0;34m\u001b[0m\u001b[0m\n\u001b[0;32m---> 12\u001b[0;31m \u001b[0mresult2\u001b[0m \u001b[0;34m=\u001b[0m \u001b[0mstr1\u001b[0m\u001b[0;34m.\u001b[0m\u001b[0mindex\u001b[0m\u001b[0;34m(\u001b[0m\u001b[0;34m\"Narayana\"\u001b[0m\u001b[0;34m)\u001b[0m\u001b[0;34m\u001b[0m\u001b[0;34m\u001b[0m\u001b[0m\n\u001b[0m\u001b[1;32m     13\u001b[0m \u001b[0;34m\u001b[0m\u001b[0m\n\u001b[1;32m     14\u001b[0m \u001b[0mprint\u001b[0m\u001b[0;34m(\u001b[0m\u001b[0mresult2\u001b[0m\u001b[0;34m)\u001b[0m\u001b[0;34m\u001b[0m\u001b[0;34m\u001b[0m\u001b[0m\n",
            "\u001b[0;31mValueError\u001b[0m: substring not found"
          ]
        }
      ]
    },
    {
      "cell_type": "code",
      "source": [
        "str1 = \"abc123A\"\n",
        "\n",
        "print(str1.upper())"
      ],
      "metadata": {
        "colab": {
          "base_uri": "https://localhost:8080/"
        },
        "id": "v6Sv6nUjE5yM",
        "outputId": "a3c9148b-c2db-481c-fd52-130c9a79d7c7"
      },
      "execution_count": 63,
      "outputs": [
        {
          "output_type": "stream",
          "name": "stdout",
          "text": [
            "ABC123A\n"
          ]
        }
      ]
    },
    {
      "cell_type": "code",
      "source": [
        "\"\"\"\n",
        "Method Calling - variable =  object_name.methods_name(args if any)\n",
        "Methods - split()\n",
        "  Description : Splits the given string based on the delimiter provided in the argument\n",
        "  Arguments : one argument, i.e. delimiter\n",
        "  Return Value/Type : Returns a list (list only)\n",
        "\"\"\"\n",
        "str1 = \"Adi|Narayana|python\"\n",
        "\n",
        "str_lst = str1.split(\"|\")\n",
        "\n",
        "print(str_lst)\n",
        "\n"
      ],
      "metadata": {
        "colab": {
          "base_uri": "https://localhost:8080/"
        },
        "id": "Hao-bJELGKwt",
        "outputId": "92b74e70-286b-4735-d8de-65d4cc62db3e"
      },
      "execution_count": 64,
      "outputs": [
        {
          "output_type": "stream",
          "name": "stdout",
          "text": [
            "['Adi', 'Narayana', 'python']\n"
          ]
        }
      ]
    },
    {
      "cell_type": "code",
      "source": [
        "str1 = \"Adi|Narayana,python\"\n",
        "\n",
        "str_lst = str1.split(\"|\")\n",
        "\n",
        "print(str_lst)"
      ],
      "metadata": {
        "colab": {
          "base_uri": "https://localhost:8080/"
        },
        "id": "rhBUUOS0HwSm",
        "outputId": "547e432d-6fa9-45f1-8628-2ecbc9b7b4f9"
      },
      "execution_count": 65,
      "outputs": [
        {
          "output_type": "stream",
          "name": "stdout",
          "text": [
            "['Adi', 'Narayana,python']\n"
          ]
        }
      ]
    },
    {
      "cell_type": "code",
      "source": [
        "str1 = \"Adi|Narayana,python\"\n",
        "\n",
        "str_lst = str1.split(\",\")\n",
        "\n",
        "print(str_lst)"
      ],
      "metadata": {
        "colab": {
          "base_uri": "https://localhost:8080/"
        },
        "id": "3j-TJWjMISw9",
        "outputId": "c73bc72a-0a03-4ac9-c478-c383df7c9bd4"
      },
      "execution_count": 66,
      "outputs": [
        {
          "output_type": "stream",
          "name": "stdout",
          "text": [
            "['Adi|Narayana', 'python']\n"
          ]
        }
      ]
    },
    {
      "cell_type": "code",
      "source": [
        "str1 = \"Adi|Narayana python\"\n",
        "\n",
        "str_lst = str1.split(\",\")\n",
        "\n",
        "print(str_lst)"
      ],
      "metadata": {
        "colab": {
          "base_uri": "https://localhost:8080/"
        },
        "id": "tPjfNVbVIYWC",
        "outputId": "041b290f-439c-493a-dffb-83c6a673f68f"
      },
      "execution_count": 68,
      "outputs": [
        {
          "output_type": "stream",
          "name": "stdout",
          "text": [
            "['Adi|Narayana python']\n"
          ]
        }
      ]
    },
    {
      "cell_type": "code",
      "source": [
        "\"\"\"\n",
        "Method Calling - variable =  object_name.methods_name(args if any)\n",
        "Methods - join()\n",
        "  Description : Forms a string for the iterable passed in the argument based on the delimiter string object\n",
        "  Arguments : one argument, i.e. iterable\n",
        "  Return Value/Type : Returns a string(Always a string)\n",
        "\"\"\"\n",
        "\n",
        "lst = [1,2,3,4,5,6,7]\n",
        "\n",
        "str_lst = []\n",
        "\n",
        "for temp in lst:\n",
        "  str_lst.append(str(temp))\n",
        "print(str_lst)\n",
        "\n",
        "final_str = \"|\".join(str_lst)\n",
        "\n",
        "print(final_str)"
      ],
      "metadata": {
        "colab": {
          "base_uri": "https://localhost:8080/"
        },
        "id": "WH6k2cgbIxzX",
        "outputId": "e30e2581-8c49-4a87-fc1f-9ff3329f3523"
      },
      "execution_count": 71,
      "outputs": [
        {
          "output_type": "stream",
          "name": "stdout",
          "text": [
            "['1', '2', '3', '4', '5', '6', '7']\n",
            "1|2|3|4|5|6|7\n"
          ]
        }
      ]
    },
    {
      "cell_type": "code",
      "source": [
        "\n",
        "lst = [1,2,3,4,5,6,7]\n",
        "\n",
        "str_lst = []\n",
        "\n",
        "for temp in lst:\n",
        "  str_lst.append(str(temp))\n",
        "print(str_lst)\n",
        "\n",
        "my_delimiter = \"#\"\n",
        "final_str = my_delimiter.join(str_lst)\n",
        "\n",
        "print(final_str)"
      ],
      "metadata": {
        "colab": {
          "base_uri": "https://localhost:8080/"
        },
        "id": "9YCjtokOKUnr",
        "outputId": "2f5197c0-f37e-4bd0-8e47-bb986ba72fab"
      },
      "execution_count": 74,
      "outputs": [
        {
          "output_type": "stream",
          "name": "stdout",
          "text": [
            "['1', '2', '3', '4', '5', '6', '7']\n",
            "1#2#3#4#5#6#7\n"
          ]
        }
      ]
    },
    {
      "cell_type": "code",
      "source": [
        "str1 = \"Python\"\n",
        "\n",
        "print(\"|\".join(str1))"
      ],
      "metadata": {
        "colab": {
          "base_uri": "https://localhost:8080/"
        },
        "id": "DfbOLkUZKi8N",
        "outputId": "ef3c4bed-de65-4375-bace-fe0e5cc66fc6"
      },
      "execution_count": 75,
      "outputs": [
        {
          "output_type": "stream",
          "name": "stdout",
          "text": [
            "P|y|t|h|o|n\n"
          ]
        }
      ]
    },
    {
      "cell_type": "code",
      "source": [
        "# append() - list class pre-defined method\n",
        "# list - mutable - Original list will be modified\n",
        "# strings - immutable - Original string can't be modified, we have to re-assign the returned value\n",
        "\n",
        "lst1 = [1,2,3,4,5]\n",
        "print(lst)\n",
        "lst1.append(100)\n",
        "print(lst)\n",
        "\n",
        "\n",
        "for temp in range(5) : # 0,1,2,3,4\n",
        "  print(temp)"
      ],
      "metadata": {
        "id": "c18ChFCIK1ae"
      },
      "execution_count": null,
      "outputs": []
    },
    {
      "cell_type": "code",
      "source": [
        "str1 = \"python and sql\""
      ],
      "metadata": {
        "id": "9YV46Hp4MOOW"
      },
      "execution_count": null,
      "outputs": []
    },
    {
      "cell_type": "code",
      "source": [
        "lst1 = []\n",
        "\n",
        "lst1.append(0)\n",
        "lst1.append(1)\n",
        "lst1.append(2)\n",
        "lst1.append(3)\n",
        "lst1.append(4)\n",
        "\n",
        "print(lst1)"
      ],
      "metadata": {
        "colab": {
          "base_uri": "https://localhost:8080/"
        },
        "id": "lKPd3kgjMts4",
        "outputId": "6f49f5eb-e777-4d34-ca33-d597c5332d6e"
      },
      "execution_count": 76,
      "outputs": [
        {
          "output_type": "stream",
          "name": "stdout",
          "text": [
            "[0, 1, 2, 3, 4]\n"
          ]
        }
      ]
    },
    {
      "cell_type": "code",
      "source": [
        "lst1 = []\n",
        "\n",
        "for temp in range(5):\n",
        "  lst1.append(temp)\n",
        "\n",
        "print(lst1)"
      ],
      "metadata": {
        "colab": {
          "base_uri": "https://localhost:8080/"
        },
        "id": "lzDgBQVLNTRa",
        "outputId": "9e2be571-d2de-493a-b808-6a03aebf32d6"
      },
      "execution_count": 77,
      "outputs": [
        {
          "output_type": "stream",
          "name": "stdout",
          "text": [
            "[0, 1, 2, 3, 4]\n"
          ]
        }
      ]
    },
    {
      "cell_type": "code",
      "source": [
        "lst1 = [] # 1,2,3,4,5\n",
        "\n",
        "for temp in range(5):\n",
        "  lst1.append(temp + 1)\n",
        "\n",
        "print(lst1)"
      ],
      "metadata": {
        "colab": {
          "base_uri": "https://localhost:8080/"
        },
        "id": "XAYHXzuIN55F",
        "outputId": "9cd04016-1a5c-4075-bb17-c3e190fbfc8a"
      },
      "execution_count": 79,
      "outputs": [
        {
          "output_type": "stream",
          "name": "stdout",
          "text": [
            "[1, 2, 3, 4, 5]\n"
          ]
        }
      ]
    },
    {
      "cell_type": "code",
      "source": [
        "for temp1 in range(5):\n",
        "  print(\"SQL and Python\")\n",
        "  for temp2 in range(2):\n",
        "    print(\"\\tNow learn Hadoop\")"
      ],
      "metadata": {
        "colab": {
          "base_uri": "https://localhost:8080/"
        },
        "id": "ZgZilXlwOM2W",
        "outputId": "6475cbe8-e9bf-48d5-fd67-7fe912af46fb"
      },
      "execution_count": 92,
      "outputs": [
        {
          "output_type": "stream",
          "name": "stdout",
          "text": [
            "SQL and Python\n",
            "\tNow learn Hadoop\n",
            "\tNow learn Hadoop\n",
            "SQL and Python\n",
            "\tNow learn Hadoop\n",
            "\tNow learn Hadoop\n",
            "SQL and Python\n",
            "\tNow learn Hadoop\n",
            "\tNow learn Hadoop\n",
            "SQL and Python\n",
            "\tNow learn Hadoop\n",
            "\tNow learn Hadoop\n",
            "SQL and Python\n",
            "\tNow learn Hadoop\n",
            "\tNow learn Hadoop\n"
          ]
        }
      ]
    },
    {
      "cell_type": "code",
      "source": [
        "for temp1 in range(4):\n",
        "  print(\"SQL and Python\")\n",
        "  for temp2 in range(5):\n",
        "    print(\"\\tNow learn Hadoop\")"
      ],
      "metadata": {
        "id": "lYEQunoSO3fX"
      },
      "execution_count": null,
      "outputs": []
    },
    {
      "cell_type": "code",
      "source": [
        "for temp1 in range(4): # 0,1,2,3\n",
        "  print(\"SQL and Python\")\n",
        "  for temp2 in range(temp1,5): \n",
        "    print(\"\\tNow learn Hadoop\")"
      ],
      "metadata": {
        "colab": {
          "base_uri": "https://localhost:8080/"
        },
        "id": "Ulq7X4-hRKJR",
        "outputId": "0a3e6a7a-d618-4237-976e-956fe686374e"
      },
      "execution_count": 91,
      "outputs": [
        {
          "output_type": "stream",
          "name": "stdout",
          "text": [
            "SQL and Python\n",
            "\tNow learn Hadoop\n",
            "\tNow learn Hadoop\n",
            "\tNow learn Hadoop\n",
            "\tNow learn Hadoop\n",
            "\tNow learn Hadoop\n",
            "SQL and Python\n",
            "\tNow learn Hadoop\n",
            "\tNow learn Hadoop\n",
            "\tNow learn Hadoop\n",
            "\tNow learn Hadoop\n",
            "SQL and Python\n",
            "\tNow learn Hadoop\n",
            "\tNow learn Hadoop\n",
            "\tNow learn Hadoop\n",
            "SQL and Python\n",
            "\tNow learn Hadoop\n",
            "\tNow learn Hadoop\n"
          ]
        }
      ]
    },
    {
      "cell_type": "code",
      "source": [
        "for temp1 in range(4): # 0,1,2,3\n",
        "  print(\"SQL and Python\")\n",
        "  a = 3\n",
        "  for temp2 in range(a,5): \n",
        "    print(\"\\tNow learn Hadoop\")"
      ],
      "metadata": {
        "colab": {
          "base_uri": "https://localhost:8080/"
        },
        "id": "-nW23j_0PPu7",
        "outputId": "f95cbe76-6e8c-4e03-82f6-438a72a37263"
      },
      "execution_count": 90,
      "outputs": [
        {
          "output_type": "stream",
          "name": "stdout",
          "text": [
            "SQL and Python\n",
            "\tNow learn Hadoop\n",
            "\tNow learn Hadoop\n",
            "SQL and Python\n",
            "\tNow learn Hadoop\n",
            "\tNow learn Hadoop\n",
            "SQL and Python\n",
            "\tNow learn Hadoop\n",
            "\tNow learn Hadoop\n",
            "SQL and Python\n",
            "\tNow learn Hadoop\n",
            "\tNow learn Hadoop\n"
          ]
        }
      ]
    }
  ]
}