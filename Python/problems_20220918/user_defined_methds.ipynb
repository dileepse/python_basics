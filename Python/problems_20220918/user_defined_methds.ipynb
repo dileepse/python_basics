{
  "nbformat": 4,
  "nbformat_minor": 0,
  "metadata": {
    "colab": {
      "provenance": [],
      "collapsed_sections": []
    },
    "kernelspec": {
      "name": "python3",
      "display_name": "Python 3"
    },
    "language_info": {
      "name": "python"
    }
  },
  "cells": [
    {
      "cell_type": "code",
      "source": [
        "lst = [1,2,3]\n",
        "# 4\n",
        "lst[3] = 4\n",
        "\n",
        "print(lst)"
      ],
      "metadata": {
        "colab": {
          "base_uri": "https://localhost:8080/",
          "height": 236
        },
        "id": "UWY8YtzI8TW3",
        "outputId": "12b9364a-7b3c-4711-e762-b725b618b2c2"
      },
      "execution_count": 9,
      "outputs": [
        {
          "output_type": "error",
          "ename": "IndexError",
          "evalue": "ignored",
          "traceback": [
            "\u001b[0;31m---------------------------------------------------------------------------\u001b[0m",
            "\u001b[0;31mIndexError\u001b[0m                                Traceback (most recent call last)",
            "\u001b[0;32m<ipython-input-9-2f593cea3ce2>\u001b[0m in \u001b[0;36m<module>\u001b[0;34m\u001b[0m\n\u001b[1;32m      1\u001b[0m \u001b[0mlst\u001b[0m \u001b[0;34m=\u001b[0m \u001b[0;34m[\u001b[0m\u001b[0;36m1\u001b[0m\u001b[0;34m,\u001b[0m\u001b[0;36m2\u001b[0m\u001b[0;34m,\u001b[0m\u001b[0;36m3\u001b[0m\u001b[0;34m]\u001b[0m\u001b[0;34m\u001b[0m\u001b[0;34m\u001b[0m\u001b[0m\n\u001b[1;32m      2\u001b[0m \u001b[0;31m# 4\u001b[0m\u001b[0;34m\u001b[0m\u001b[0;34m\u001b[0m\u001b[0;34m\u001b[0m\u001b[0m\n\u001b[0;32m----> 3\u001b[0;31m \u001b[0mlst\u001b[0m\u001b[0;34m[\u001b[0m\u001b[0;36m3\u001b[0m\u001b[0;34m]\u001b[0m \u001b[0;34m=\u001b[0m \u001b[0;36m4\u001b[0m\u001b[0;34m\u001b[0m\u001b[0;34m\u001b[0m\u001b[0m\n\u001b[0m\u001b[1;32m      4\u001b[0m \u001b[0;34m\u001b[0m\u001b[0m\n\u001b[1;32m      5\u001b[0m \u001b[0mprint\u001b[0m\u001b[0;34m(\u001b[0m\u001b[0mlst\u001b[0m\u001b[0;34m)\u001b[0m\u001b[0;34m\u001b[0m\u001b[0;34m\u001b[0m\u001b[0m\n",
            "\u001b[0;31mIndexError\u001b[0m: list assignment index out of range"
          ]
        }
      ]
    },
    {
      "cell_type": "code",
      "source": [
        "lst = [1,2,3]\n",
        "lst1 = [3,4,5]\n",
        "\n",
        "lst.extend(lst1)\n",
        "\n",
        "#lst = lst + lst1\n",
        "\n",
        "print(lst)"
      ],
      "metadata": {
        "colab": {
          "base_uri": "https://localhost:8080/"
        },
        "id": "NXJOdiko_nZ_",
        "outputId": "a7a0e2b2-5f9b-4775-c009-ab146f1db403"
      },
      "execution_count": 17,
      "outputs": [
        {
          "output_type": "stream",
          "name": "stdout",
          "text": [
            "[1, 2, 3, 3, 4, 5]\n"
          ]
        }
      ]
    },
    {
      "cell_type": "code",
      "source": [
        "lst = [1,2,3,4,5]\n",
        "\n",
        "lst =lst + [None]\n",
        "\n",
        "print(lst)"
      ],
      "metadata": {
        "colab": {
          "base_uri": "https://localhost:8080/"
        },
        "id": "z8X_OdKy9Mv8",
        "outputId": "d342fb74-e255-48a7-ec9c-ebac460dc16b"
      },
      "execution_count": 20,
      "outputs": [
        {
          "output_type": "stream",
          "name": "stdout",
          "text": [
            "[1, 2, 3, 4, 5, None]\n"
          ]
        }
      ]
    },
    {
      "cell_type": "code",
      "source": [
        "for temp in range(5,1,-1):\n",
        "  print(temp)"
      ],
      "metadata": {
        "colab": {
          "base_uri": "https://localhost:8080/"
        },
        "id": "7FTGyjrzRjjQ",
        "outputId": "27944736-1ecf-4e55-d2c7-954f568fb21f"
      },
      "execution_count": 28,
      "outputs": [
        {
          "output_type": "stream",
          "name": "stdout",
          "text": [
            "5\n",
            "4\n",
            "3\n",
            "2\n"
          ]
        }
      ]
    },
    {
      "cell_type": "code",
      "source": [
        "\n",
        "lst = [10,20,30,40,50, None]\n",
        "\n",
        "for temp in range(5,2,-1):\n",
        "  print(temp)"
      ],
      "metadata": {
        "colab": {
          "base_uri": "https://localhost:8080/"
        },
        "id": "lAO61Ny-SQtX",
        "outputId": "f8d0ba26-3ca7-4378-80be-43adc6f0285b"
      },
      "execution_count": 29,
      "outputs": [
        {
          "output_type": "stream",
          "name": "stdout",
          "text": [
            "5\n",
            "4\n",
            "3\n"
          ]
        }
      ]
    },
    {
      "cell_type": "code",
      "source": [
        "\n",
        "lst = [10,20,30,40,50]\n",
        "\n",
        "lst[3] = lst[2]\n",
        "\n",
        "print(lst)"
      ],
      "metadata": {
        "colab": {
          "base_uri": "https://localhost:8080/"
        },
        "id": "0zR_hp-tU8Gi",
        "outputId": "de3d5124-90d3-476c-9566-afedff31a697"
      },
      "execution_count": 32,
      "outputs": [
        {
          "output_type": "stream",
          "name": "stdout",
          "text": [
            "[10, 20, 30, 30, 50]\n"
          ]
        }
      ]
    },
    {
      "cell_type": "code",
      "source": [
        "lst = [10,20,30,40,50]\n",
        "\n",
        "lst[4] = lst[3] # [10,20,30,40,40]\n",
        "lst[3] = lst[4] # [10,20,30,40,40]\n",
        "\n",
        "print(lst)"
      ],
      "metadata": {
        "colab": {
          "base_uri": "https://localhost:8080/"
        },
        "id": "YOnfO5jbVTGw",
        "outputId": "a5bd6698-1e29-464c-a08a-e4bfafb54c0b"
      },
      "execution_count": 33,
      "outputs": [
        {
          "output_type": "stream",
          "name": "stdout",
          "text": [
            "[10, 20, 30, 40, 40]\n"
          ]
        }
      ]
    },
    {
      "cell_type": "code",
      "source": [
        "# Swapping elements\n",
        "lst = [10,20,30,40,50]\n",
        "\n",
        "temp = lst[4] # temp = 50\n",
        "lst[4] = lst[3]\n",
        "lst[3] = temp\n",
        "\n",
        "print(lst)"
      ],
      "metadata": {
        "colab": {
          "base_uri": "https://localhost:8080/"
        },
        "id": "Bf8IRkqHVsIB",
        "outputId": "f95f8f83-083b-4f09-ef9e-202a88c2ba6b"
      },
      "execution_count": 34,
      "outputs": [
        {
          "output_type": "stream",
          "name": "stdout",
          "text": [
            "[10, 20, 30, 50, 40]\n"
          ]
        }
      ]
    },
    {
      "cell_type": "code",
      "source": [
        "lst = [30,20,40,10,50,10,5]\n",
        "sorted_list = []\n",
        "print(lst)\n",
        "\n",
        "min_value = min(lst) # min_value = 5\n",
        "sorted_list.append(min_value) # [5]\n",
        "lst.remove(min_value) #  [30,20,40,10,50,10]\n",
        "print(\"Minimum Value : \", min_value)\n",
        "print(lst)\n",
        "\n",
        "\n",
        "min_value = min(lst) # min_value = 10\n",
        "sorted_list.append(min_value) # [5, 10]\n",
        "print(\"Minimum Value : \", min_value)\n",
        "lst.remove(min_value) #  [30,20,40,50,10]\n",
        "print(lst)\n",
        "\n",
        "min_value = min(lst) # min_value = 10\n",
        "sorted_list.append(min_value)  # [5, 10, 10]\n",
        "print(\"Minimum Value : \", min_value)\n",
        "lst.remove(min_value) #  [30,20,40,50,10]\n",
        "print(lst)\n",
        "\n",
        "\n",
        "min_value = min(lst) # min_value = 20\n",
        "sorted_list.append(min_value)  # [5, 10, 10, 20]\n",
        "print(\"Minimum Value : \", min_value)\n",
        "lst.remove(min_value) #  [30,40,50]\n",
        "print(lst)\n",
        "\n",
        "print(sorted_list)"
      ],
      "metadata": {
        "colab": {
          "base_uri": "https://localhost:8080/"
        },
        "id": "UYGyQBRGcqe0",
        "outputId": "c39a5091-bff2-4d17-d13f-f1c6e5a64919"
      },
      "execution_count": 47,
      "outputs": [
        {
          "output_type": "stream",
          "name": "stdout",
          "text": [
            "[30, 20, 40, 10, 50, 10, 5]\n",
            "Minimum Value :  5\n",
            "[30, 20, 40, 10, 50, 10]\n",
            "Minimum Value :  10\n",
            "[30, 20, 40, 50, 10]\n",
            "Minimum Value :  10\n",
            "[30, 20, 40, 50]\n",
            "Minimum Value :  20\n",
            "[30, 40, 50]\n",
            "[5, 10, 10, 20]\n"
          ]
        }
      ]
    },
    {
      "cell_type": "code",
      "source": [
        "lst = [30,20,40,10,50,10,5]\n",
        "sorted_list = []\n",
        "print(lst)\n",
        "\n",
        "for temp in range(len(lst)): \n",
        "  min_value = min(lst) \n",
        "  sorted_list.append(min_value) \n",
        "  lst.remove(min_value)\n",
        "print(sorted_list)"
      ],
      "metadata": {
        "colab": {
          "base_uri": "https://localhost:8080/"
        },
        "id": "s_rncKIgeenf",
        "outputId": "ebde1cb0-fff9-4864-928b-05ce87143c04"
      },
      "execution_count": 49,
      "outputs": [
        {
          "output_type": "stream",
          "name": "stdout",
          "text": [
            "[30, 20, 40, 10, 50, 10, 5]\n",
            "[5, 10, 10, 20, 30, 40, 50]\n"
          ]
        }
      ]
    }
  ]
}