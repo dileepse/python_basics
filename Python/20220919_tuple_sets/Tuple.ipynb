{
  "nbformat": 4,
  "nbformat_minor": 0,
  "metadata": {
    "colab": {
      "provenance": []
    },
    "kernelspec": {
      "name": "python3",
      "display_name": "Python 3"
    },
    "language_info": {
      "name": "python"
    }
  },
  "cells": [
    {
      "cell_type": "code",
      "source": [
        "\"\"\"\n",
        "Data Structure\n",
        "Lists - Very very important\n",
        "Tuple\n",
        "Set\n",
        "Dictionary  - Very very important\n",
        "Strings  - Very very important\n",
        "\"\"\""
      ],
      "metadata": {
        "id": "0FJcLowtohs1"
      },
      "execution_count": null,
      "outputs": []
    },
    {
      "cell_type": "code",
      "execution_count": null,
      "metadata": {
        "colab": {
          "base_uri": "https://localhost:8080/"
        },
        "id": "9s8TmTFfoMK_",
        "outputId": "903d1451-e8a6-4f61-9598-f6f626be83ad"
      },
      "outputs": [
        {
          "output_type": "stream",
          "name": "stdout",
          "text": [
            "[10, 300, 30, 40]\n"
          ]
        }
      ],
      "source": [
        "lst = [10,20,30,40]\n",
        "\n",
        "lst[1] = 300\n",
        "\n",
        "print(lst)\n"
      ]
    },
    {
      "cell_type": "code",
      "source": [
        "# tuple - enlosed with these braces ()\n",
        "# Immutable - Can't be modified/changed once assigned or created\n",
        "# In tuple indexing concept is same as in list\n",
        "# Ordering is preserved in both list and tuple\n",
        "# These are iterable just like list\n",
        "\n",
        "\"\"\"\n",
        "Functions\n",
        "min\n",
        "max\n",
        "len\n",
        "sum\n",
        "\"\"\"\n",
        "tup1 = (10,20,30,40)\n",
        "\n",
        "print(tup1[1])\n",
        "\n",
        "# tup1[1] = 200 you can re-assign as it is a tuple\n",
        "\n",
        "print(tup1)"
      ],
      "metadata": {
        "colab": {
          "base_uri": "https://localhost:8080/"
        },
        "id": "IneNDqRspSbZ",
        "outputId": "3528173d-a8ce-4118-9339-cf55f7c0fa40"
      },
      "execution_count": null,
      "outputs": [
        {
          "output_type": "stream",
          "name": "stdout",
          "text": [
            "20\n",
            "(10, 20, 30, 40)\n"
          ]
        }
      ]
    },
    {
      "cell_type": "code",
      "source": [
        "a = (10,)\n",
        "\n",
        "type(a)"
      ],
      "metadata": {
        "colab": {
          "base_uri": "https://localhost:8080/"
        },
        "id": "deTPutzHq5vf",
        "outputId": "91c71753-4155-41ec-940d-39b274078533"
      },
      "execution_count": null,
      "outputs": [
        {
          "output_type": "execute_result",
          "data": {
            "text/plain": [
              "tuple"
            ]
          },
          "metadata": {},
          "execution_count": 8
        }
      ]
    },
    {
      "cell_type": "code",
      "source": [
        "# Accesing a tuple by passing it as an iterable to for loop\n",
        "\n",
        "tup1 = (10, 20, 30, 40)\n",
        "for temp in tup1:\n",
        "  print(temp)"
      ],
      "metadata": {
        "colab": {
          "base_uri": "https://localhost:8080/"
        },
        "id": "buFOLcCzrIzk",
        "outputId": "01d3b2b5-636a-4b43-a071-91cdacb99fc4"
      },
      "execution_count": null,
      "outputs": [
        {
          "output_type": "stream",
          "name": "stdout",
          "text": [
            "10\n",
            "20\n",
            "30\n",
            "40\n"
          ]
        }
      ]
    },
    {
      "cell_type": "code",
      "source": [
        "# Accesing a tuple by index using for loop\n",
        "\n",
        "tup1 = (10, 20, 30, 40)\n",
        "\n",
        "for temp in range(len(tup1)):\n",
        "  # print(\"tup1[{temp}]\".format(temp = temp))\n",
        "  print(tup1[temp])"
      ],
      "metadata": {
        "colab": {
          "base_uri": "https://localhost:8080/"
        },
        "id": "CA78MF2frDtr",
        "outputId": "da6f8b60-31f1-48cd-a93a-946cc290d80f"
      },
      "execution_count": null,
      "outputs": [
        {
          "output_type": "stream",
          "name": "stdout",
          "text": [
            "10\n",
            "20\n",
            "30\n",
            "40\n"
          ]
        }
      ]
    },
    {
      "cell_type": "code",
      "source": [
        "tup1 = (10, 20, 30, 40)\n",
        "\n",
        "print(tup1[1:3])"
      ],
      "metadata": {
        "colab": {
          "base_uri": "https://localhost:8080/"
        },
        "id": "SE0HC2x5sv-y",
        "outputId": "c3eab196-7deb-4216-9c77-8b6c59e98540"
      },
      "execution_count": null,
      "outputs": [
        {
          "output_type": "execute_result",
          "data": {
            "text/plain": [
              "(20, 30)"
            ]
          },
          "metadata": {},
          "execution_count": 20
        }
      ]
    },
    {
      "cell_type": "code",
      "source": [
        "name = \"Dileep \"\n",
        "\n",
        "name = name + \"Kumar\"\n",
        "\n",
        "print(name)"
      ],
      "metadata": {
        "colab": {
          "base_uri": "https://localhost:8080/"
        },
        "id": "GyKPRQTftKJD",
        "outputId": "d7540292-fefc-4a7d-9826-ad0ff05f0960"
      },
      "execution_count": null,
      "outputs": [
        {
          "output_type": "stream",
          "name": "stdout",
          "text": [
            "Dileep Kumar\n"
          ]
        }
      ]
    },
    {
      "cell_type": "code",
      "source": [
        "tup1 = (10, 20, 30, 40)\n",
        "\n",
        "tup1 = tup1 + (50,60)\n",
        "\n",
        "print(tup1)"
      ],
      "metadata": {
        "colab": {
          "base_uri": "https://localhost:8080/"
        },
        "id": "yQGfuDg8tbxA",
        "outputId": "797985e5-be2f-469f-87aa-0fc2d3cbc38a"
      },
      "execution_count": null,
      "outputs": [
        {
          "output_type": "stream",
          "name": "stdout",
          "text": [
            "(10, 20, 30, 40, 50, 60)\n"
          ]
        }
      ]
    },
    {
      "cell_type": "code",
      "source": [
        "# Methods in tuples\n",
        "# count\n",
        "# index\n",
        "tup1 = (10, 20, 30, 40,10,20,10)\n",
        "\n",
        "count_10 = tup1.count(10)\n",
        "\n",
        "print(count_10)"
      ],
      "metadata": {
        "colab": {
          "base_uri": "https://localhost:8080/"
        },
        "id": "wHVwumkqt6QU",
        "outputId": "f2ca331b-2c22-4323-9541-d373ede0c1db"
      },
      "execution_count": null,
      "outputs": [
        {
          "output_type": "stream",
          "name": "stdout",
          "text": [
            "3\n"
          ]
        }
      ]
    },
    {
      "cell_type": "code",
      "source": [
        "# index\n",
        "# Return first occurence index of the specified value in arguments\n",
        "tup1 = (10, 20, 30, 40,10,20,10)\n",
        "\n",
        "index_40 = tup1.index(40)\n",
        "print(index_40)"
      ],
      "metadata": {
        "colab": {
          "base_uri": "https://localhost:8080/"
        },
        "id": "Bw7pTKVLuTLS",
        "outputId": "81021dca-750f-4659-f3b8-be76b312fe67"
      },
      "execution_count": null,
      "outputs": [
        {
          "output_type": "stream",
          "name": "stdout",
          "text": [
            "3\n"
          ]
        }
      ]
    },
    {
      "cell_type": "code",
      "source": [
        "# index\n",
        "# Return first occurence index of the specified value in arguments\n",
        "tup1 = (10, 20, 30, 40,10,20,10)\n",
        "\n",
        "index_40 = tup1.index(400)\n",
        "print(index_40)"
      ],
      "metadata": {
        "id": "OFRPHY1bvD9F"
      },
      "execution_count": null,
      "outputs": []
    },
    {
      "cell_type": "code",
      "source": [
        "lst = [1,2,3,4,5,6]\n",
        "\n",
        "tup1 = tuple(lst)\n",
        "\n",
        "print(tup1)"
      ],
      "metadata": {
        "colab": {
          "base_uri": "https://localhost:8080/"
        },
        "id": "jL5j4qljvSG9",
        "outputId": "e252231f-cf3f-401f-bab2-323e9eceb0b2"
      },
      "execution_count": null,
      "outputs": [
        {
          "output_type": "stream",
          "name": "stdout",
          "text": [
            "(1, 2, 3, 4, 5, 6)\n"
          ]
        }
      ]
    },
    {
      "cell_type": "code",
      "source": [
        "tup1 = (10, 20, 30, 40,10,20,10)\n",
        "\n",
        "lst = list(tup1)\n",
        "\n",
        "print(lst)"
      ],
      "metadata": {
        "colab": {
          "base_uri": "https://localhost:8080/"
        },
        "id": "LM0pjPvQvjLo",
        "outputId": "5f28f92f-21ca-495b-a237-9891e13652f5"
      },
      "execution_count": null,
      "outputs": [
        {
          "output_type": "stream",
          "name": "stdout",
          "text": [
            "[10, 20, 30, 40, 10, 20, 10]\n"
          ]
        }
      ]
    },
    {
      "cell_type": "code",
      "source": [
        "a = 10\n",
        "print(type(a))\n",
        "\n",
        "a = str(a)\n",
        "\n",
        "print(type(a))\n",
        "\n",
        "print((a,))\n",
        "\n",
        "name = \"Dileep\"\n",
        "\n",
        "print(name)"
      ],
      "metadata": {
        "colab": {
          "base_uri": "https://localhost:8080/"
        },
        "id": "Ex9XQN1DvuRh",
        "outputId": "6f99cbc9-2e13-4ff2-e98a-bfbeda555244"
      },
      "execution_count": null,
      "outputs": [
        {
          "output_type": "stream",
          "name": "stdout",
          "text": [
            "<class 'int'>\n",
            "<class 'str'>\n",
            "('10',)\n",
            "Dileep\n"
          ]
        }
      ]
    },
    {
      "cell_type": "code",
      "source": [
        "# Sets\n",
        "lst = []\n",
        "tup1 = (5,)\n",
        "\n",
        "print(len(tup1))\n",
        "\n",
        "for temp in tup1:\n",
        "  print(\"Hello\")"
      ],
      "metadata": {
        "id": "XIFnT93fxpdq",
        "outputId": "9226c620-0610-4282-e0b0-eddcf7b13a0d",
        "colab": {
          "base_uri": "https://localhost:8080/"
        }
      },
      "execution_count": null,
      "outputs": [
        {
          "output_type": "stream",
          "name": "stdout",
          "text": [
            "1\n",
            "Hello\n"
          ]
        }
      ]
    }
  ]
}