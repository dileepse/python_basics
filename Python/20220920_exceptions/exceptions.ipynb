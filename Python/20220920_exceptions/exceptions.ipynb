{
  "nbformat": 4,
  "nbformat_minor": 0,
  "metadata": {
    "colab": {
      "provenance": []
    },
    "kernelspec": {
      "name": "python3",
      "display_name": "Python 3"
    },
    "language_info": {
      "name": "python"
    }
  },
  "cells": [
    {
      "cell_type": "code",
      "execution_count": 1,
      "metadata": {
        "colab": {
          "base_uri": "https://localhost:8080/"
        },
        "id": "Uh1Z7qG9xLyW",
        "outputId": "417f8822-337b-4b50-8e5c-2d54a83e24d6"
      },
      "outputs": [
        {
          "output_type": "stream",
          "name": "stdout",
          "text": [
            "Helo\n"
          ]
        }
      ],
      "source": [
        "print(\"Hello\")"
      ]
    },
    {
      "cell_type": "code",
      "source": [
        "a = 100\n",
        "b = 20\n",
        "\n",
        "print(a/b)"
      ],
      "metadata": {
        "colab": {
          "base_uri": "https://localhost:8080/"
        },
        "id": "SaSjDLkxxOAl",
        "outputId": "902ff52b-3183-4ee1-b73e-e719ef19dd28"
      },
      "execution_count": 2,
      "outputs": [
        {
          "output_type": "stream",
          "name": "stdout",
          "text": [
            "5.0\n"
          ]
        }
      ]
    },
    {
      "cell_type": "code",
      "source": [
        "print(50/0)\n"
      ],
      "metadata": {
        "colab": {
          "base_uri": "https://localhost:8080/",
          "height": 167
        },
        "id": "EPLCmJ5DxU36",
        "outputId": "d8f927f3-4402-466c-89dc-cb21f6b31ec1"
      },
      "execution_count": 6,
      "outputs": [
        {
          "output_type": "error",
          "ename": "ZeroDivisionError",
          "evalue": "ignored",
          "traceback": [
            "\u001b[0;31m---------------------------------------------------------------------------\u001b[0m",
            "\u001b[0;31mZeroDivisionError\u001b[0m                         Traceback (most recent call last)",
            "\u001b[0;32m<ipython-input-6-88ea1474e743>\u001b[0m in \u001b[0;36m<module>\u001b[0;34m\u001b[0m\n\u001b[0;32m----> 1\u001b[0;31m \u001b[0mprint\u001b[0m\u001b[0;34m(\u001b[0m\u001b[0;36m50\u001b[0m\u001b[0;34m/\u001b[0m\u001b[0;36m0\u001b[0m\u001b[0;34m)\u001b[0m\u001b[0;34m\u001b[0m\u001b[0;34m\u001b[0m\u001b[0m\n\u001b[0m",
            "\u001b[0;31mZeroDivisionError\u001b[0m: division by zero"
          ]
        }
      ]
    },
    {
      "cell_type": "code",
      "source": [
        "name = 'Dileep'\n",
        "print(fname)"
      ],
      "metadata": {
        "colab": {
          "base_uri": "https://localhost:8080/",
          "height": 184
        },
        "id": "76WnM_hMyTXl",
        "outputId": "890f0661-4bc8-43e8-f91f-dafccbf4b7cc"
      },
      "execution_count": 7,
      "outputs": [
        {
          "output_type": "error",
          "ename": "NameError",
          "evalue": "ignored",
          "traceback": [
            "\u001b[0;31m---------------------------------------------------------------------------\u001b[0m",
            "\u001b[0;31mNameError\u001b[0m                                 Traceback (most recent call last)",
            "\u001b[0;32m<ipython-input-7-a720237f0743>\u001b[0m in \u001b[0;36m<module>\u001b[0;34m\u001b[0m\n\u001b[1;32m      1\u001b[0m \u001b[0mname\u001b[0m \u001b[0;34m=\u001b[0m \u001b[0;34m'Dileep'\u001b[0m\u001b[0;34m\u001b[0m\u001b[0;34m\u001b[0m\u001b[0m\n\u001b[0;32m----> 2\u001b[0;31m \u001b[0mprint\u001b[0m\u001b[0;34m(\u001b[0m\u001b[0mfname\u001b[0m\u001b[0;34m)\u001b[0m\u001b[0;34m\u001b[0m\u001b[0;34m\u001b[0m\u001b[0m\n\u001b[0m",
            "\u001b[0;31mNameError\u001b[0m: name 'fname' is not defined"
          ]
        }
      ]
    },
    {
      "cell_type": "code",
      "source": [
        "lst = [1,2,3,4,'Python']\n",
        "max(lst)"
      ],
      "metadata": {
        "colab": {
          "base_uri": "https://localhost:8080/",
          "height": 184
        },
        "id": "AlnsZp6iycPk",
        "outputId": "6788646b-55bb-4f27-d0fd-105f73108c2b"
      },
      "execution_count": 8,
      "outputs": [
        {
          "output_type": "error",
          "ename": "TypeError",
          "evalue": "ignored",
          "traceback": [
            "\u001b[0;31m---------------------------------------------------------------------------\u001b[0m",
            "\u001b[0;31mTypeError\u001b[0m                                 Traceback (most recent call last)",
            "\u001b[0;32m<ipython-input-8-e837e57aa23d>\u001b[0m in \u001b[0;36m<module>\u001b[0;34m\u001b[0m\n\u001b[1;32m      1\u001b[0m \u001b[0mlst\u001b[0m \u001b[0;34m=\u001b[0m \u001b[0;34m[\u001b[0m\u001b[0;36m1\u001b[0m\u001b[0;34m,\u001b[0m\u001b[0;36m2\u001b[0m\u001b[0;34m,\u001b[0m\u001b[0;36m3\u001b[0m\u001b[0;34m,\u001b[0m\u001b[0;36m4\u001b[0m\u001b[0;34m,\u001b[0m\u001b[0;34m'Python'\u001b[0m\u001b[0;34m]\u001b[0m\u001b[0;34m\u001b[0m\u001b[0;34m\u001b[0m\u001b[0m\n\u001b[0;32m----> 2\u001b[0;31m \u001b[0mmax\u001b[0m\u001b[0;34m(\u001b[0m\u001b[0mlst\u001b[0m\u001b[0;34m)\u001b[0m\u001b[0;34m\u001b[0m\u001b[0;34m\u001b[0m\u001b[0m\n\u001b[0m",
            "\u001b[0;31mTypeError\u001b[0m: '>' not supported between instances of 'str' and 'int'"
          ]
        }
      ]
    },
    {
      "cell_type": "code",
      "source": [
        "# x = int(input(\"Enter a number only : \"))\n",
        "print(\"hello1\")\n",
        "print(\"hello2\")\n",
        "try:\n",
        "  print()\n",
        "  print(100/0)\n",
        "except :\n",
        "  pass\n",
        "  #print(\"Please don't enter zero\")\n",
        "print(\"hello3\")\n",
        "print(\"hello4\")\n",
        "print(\"hello5\")"
      ],
      "metadata": {
        "colab": {
          "base_uri": "https://localhost:8080/"
        },
        "id": "nIjOwRQ7y0ru",
        "outputId": "cfdd24d3-b2d4-4a14-8870-ba08b01bdcdc"
      },
      "execution_count": 16,
      "outputs": [
        {
          "output_type": "stream",
          "name": "stdout",
          "text": [
            "hello1\n",
            "hello2\n",
            "hello3\n",
            "hello4\n",
            "hello5\n"
          ]
        }
      ]
    },
    {
      "cell_type": "code",
      "source": [
        "lst = [1,2,3,4,'Python']\n",
        "# x = int(input(\"Enter a number only : \"))\n",
        "print(\"hello1\")\n",
        "print(\"hello2\")\n",
        "try:\n",
        "  # print(max(lst))\n",
        "  print(\"Hey\")\n",
        "  print(100/0)\n",
        "  print(\"Bye\")\n",
        "except :\n",
        "  pass\n",
        "  #print(\"Please don't enter zero\")\n",
        "print(\"hello3\")\n",
        "print(\"hello4\")\n",
        "print(\"hello5\")"
      ],
      "metadata": {
        "colab": {
          "base_uri": "https://localhost:8080/"
        },
        "id": "ELGaqv1M0YbE",
        "outputId": "4ffc856a-2b78-4162-ba98-47a0120d3250"
      },
      "execution_count": 21,
      "outputs": [
        {
          "output_type": "stream",
          "name": "stdout",
          "text": [
            "hello1\n",
            "hello2\n",
            "Hey\n",
            "hello3\n",
            "hello4\n",
            "hello5\n"
          ]
        }
      ]
    },
    {
      "cell_type": "code",
      "source": [
        "lst = [1,2,3,4,'Python']\n",
        "# x = int(input(\"Enter a number only : \"))\n",
        "print(\"hello1\")\n",
        "print(\"hello2\")\n",
        "try:\n",
        "  print(max(lst))\n",
        "  print(\"Hey\")\n",
        "  print(100/0)\n",
        "  print(\"Bye\")\n",
        "except :\n",
        "  # pass\n",
        "  print(\"Please don't divide with zero\")\n",
        "print(\"hello3\")\n",
        "print(\"hello4\")\n",
        "print(\"hello5\")"
      ],
      "metadata": {
        "colab": {
          "base_uri": "https://localhost:8080/"
        },
        "id": "YW_K8EwI1OuL",
        "outputId": "3844b03d-2e31-4085-a306-1d5a6958a148"
      },
      "execution_count": 24,
      "outputs": [
        {
          "output_type": "stream",
          "name": "stdout",
          "text": [
            "hello1\n",
            "hello2\n",
            "Please don't divide with zero\n",
            "hello3\n",
            "hello4\n",
            "hello5\n"
          ]
        }
      ]
    },
    {
      "cell_type": "code",
      "source": [
        "del name"
      ],
      "metadata": {
        "id": "K-jMG8mA3c0L"
      },
      "execution_count": 37,
      "outputs": []
    },
    {
      "cell_type": "code",
      "source": [
        "lst = [1,2,3,4,'Python']\n",
        "# x = int(input(\"Enter a number only : \"))\n",
        "print(\"hello1\")\n",
        "print(\"hello2\")\n",
        "try:\n",
        "  print(max(lst))\n",
        "  print(\"Hey\")\n",
        "  print(100/0)\n",
        "  print(\"Bye\")\n",
        "except Exception as e:\n",
        "  print(e)\n",
        "  print(type(e))\n",
        "  # print(e.args)\n",
        "  # print(e.with_traceback)\n",
        "\n",
        "print(max(lst))\n",
        "print(\"hello3\")\n",
        "print(\"hello4\")\n",
        "print(\"hello5\")"
      ],
      "metadata": {
        "colab": {
          "base_uri": "https://localhost:8080/",
          "height": 305
        },
        "id": "LtNEMkV31zyl",
        "outputId": "ab779202-b725-4d1d-b5bc-0b7dd609a582"
      },
      "execution_count": 50,
      "outputs": [
        {
          "output_type": "stream",
          "name": "stdout",
          "text": [
            "hello1\n",
            "hello2\n",
            "name 'name' is not defined\n",
            "<class 'NameError'>\n"
          ]
        },
        {
          "output_type": "error",
          "ename": "TypeError",
          "evalue": "ignored",
          "traceback": [
            "\u001b[0;31m---------------------------------------------------------------------------\u001b[0m",
            "\u001b[0;31mTypeError\u001b[0m                                 Traceback (most recent call last)",
            "\u001b[0;32m<ipython-input-50-520f648b982f>\u001b[0m in \u001b[0;36m<module>\u001b[0;34m\u001b[0m\n\u001b[1;32m     15\u001b[0m   \u001b[0;31m# print(e.with_traceback)\u001b[0m\u001b[0;34m\u001b[0m\u001b[0;34m\u001b[0m\u001b[0;34m\u001b[0m\u001b[0m\n\u001b[1;32m     16\u001b[0m \u001b[0;34m\u001b[0m\u001b[0m\n\u001b[0;32m---> 17\u001b[0;31m \u001b[0mprint\u001b[0m\u001b[0;34m(\u001b[0m\u001b[0mmax\u001b[0m\u001b[0;34m(\u001b[0m\u001b[0mlst\u001b[0m\u001b[0;34m)\u001b[0m\u001b[0;34m)\u001b[0m\u001b[0;34m\u001b[0m\u001b[0;34m\u001b[0m\u001b[0m\n\u001b[0m\u001b[1;32m     18\u001b[0m \u001b[0mprint\u001b[0m\u001b[0;34m(\u001b[0m\u001b[0;34m\"hello3\"\u001b[0m\u001b[0;34m)\u001b[0m\u001b[0;34m\u001b[0m\u001b[0;34m\u001b[0m\u001b[0m\n\u001b[1;32m     19\u001b[0m \u001b[0mprint\u001b[0m\u001b[0;34m(\u001b[0m\u001b[0;34m\"hello4\"\u001b[0m\u001b[0;34m)\u001b[0m\u001b[0;34m\u001b[0m\u001b[0;34m\u001b[0m\u001b[0m\n",
            "\u001b[0;31mTypeError\u001b[0m: '>' not supported between instances of 'str' and 'int'"
          ]
        }
      ]
    },
    {
      "cell_type": "code",
      "source": [
        "lst = [1,2,3,4,5]\n",
        "# print(lst)\n",
        "#print(*lst)\n",
        "\n",
        "tup1 = (1,2,3,4,5)\n",
        "print(tup1)\n",
        "print(*tup1)"
      ],
      "metadata": {
        "colab": {
          "base_uri": "https://localhost:8080/"
        },
        "id": "A3sSwRjx5lb6",
        "outputId": "7c2849be-3a04-4377-de7a-2a4440940c34"
      },
      "execution_count": 48,
      "outputs": [
        {
          "output_type": "stream",
          "name": "stdout",
          "text": [
            "(1, 2, 3, 4, 5)\n",
            "1 2 3 4 5\n"
          ]
        }
      ]
    },
    {
      "cell_type": "code",
      "source": [
        "lst = [1,2,3,4,'Python']\n",
        "# x = int(input(\"Enter a number only : \"))\n",
        "print(\"hello1\")\n",
        "print(\"hello2\")\n",
        "try:\n",
        "  print(name)\n",
        "  print(\"hello3\")\n",
        "  print(\"hello4\")\n",
        "except Exception as e:\n",
        "  print(e)\n",
        "  print(type(e))\n",
        "  print(\"hello3\")\n",
        "  print(\"hello4\")\n",
        "  # print(e.args)\n",
        "  # print(e.with_traceback)\n",
        "\n",
        "print(\"hello5\")\n",
        "print(\"hello6\")"
      ],
      "metadata": {
        "colab": {
          "base_uri": "https://localhost:8080/"
        },
        "id": "kX_SwVUV6ruU",
        "outputId": "a3b2ef09-23ff-45e3-8a3f-35d074b27705"
      },
      "execution_count": 52,
      "outputs": [
        {
          "output_type": "stream",
          "name": "stdout",
          "text": [
            "hello1\n",
            "hello2\n",
            "name 'name' is not defined\n",
            "<class 'NameError'>\n",
            "hello3\n",
            "hello4\n",
            "hello5\n",
            "hello6\n"
          ]
        }
      ]
    },
    {
      "cell_type": "code",
      "source": [
        "lst = [1,2,3,4,'Python']\n",
        "# x = int(input(\"Enter a number only : \"))\n",
        "print(\"hello1\")\n",
        "print(\"hello2\")\n",
        "try:\n",
        "  print(name)\n",
        "except Exception as e:\n",
        "  print(e)\n",
        "  print(type(e))\n",
        "finally:\n",
        "  print(\"hello3\")\n",
        "  print(\"hello4\")\n",
        "  # print(e.args)\n",
        "  # print(e.with_traceback)\n",
        "\n",
        "print(\"hello5\")\n",
        "print(\"hello6\")"
      ],
      "metadata": {
        "colab": {
          "base_uri": "https://localhost:8080/"
        },
        "id": "CoOsGzY-7XPQ",
        "outputId": "a3bc0598-2f8f-4a7e-df71-c46fb45df436"
      },
      "execution_count": 53,
      "outputs": [
        {
          "output_type": "stream",
          "name": "stdout",
          "text": [
            "hello1\n",
            "hello2\n",
            "name 'name' is not defined\n",
            "<class 'NameError'>\n",
            "hello3\n",
            "hello4\n",
            "hello5\n",
            "hello6\n"
          ]
        }
      ]
    },
    {
      "cell_type": "code",
      "source": [
        "# statement\n",
        "\n",
        "try:\n",
        "  # statement1\n",
        "  # statement2\n",
        "  # statement3\n",
        "  pass\n",
        "except Exception as e:\n",
        "  # statement1\n",
        "  print(str(e))\n",
        "  pass"
      ],
      "metadata": {
        "id": "PCvoNgW-7gVX"
      },
      "execution_count": null,
      "outputs": []
    },
    {
      "cell_type": "code",
      "source": [
        "lst = [1,2,3,4,'Python']\n",
        "# x = int(input(\"Enter a number only : \"))\n",
        "print(\"hello1\")\n",
        "print(\"hello2\")\n",
        "try:\n",
        "  print(\"load data into table 1\")\n",
        "  print(100/0)\n",
        "  print(\"load data into table 2\")\n",
        "except Exception as e:\n",
        "  print(e)\n",
        "  print(\"trunctate table 1\")\n",
        "  print(\"trunctate table 2\")\n",
        "  print(\"trunctate table 100\")\n",
        "  raise Exception(e)\n",
        "\n",
        "print(\"hello5\")\n",
        "print(\"hello6\")"
      ],
      "metadata": {
        "colab": {
          "base_uri": "https://localhost:8080/"
        },
        "id": "_QhJwuQz73sF",
        "outputId": "6c48570c-6075-4b25-b0cf-900cd2aae78a"
      },
      "execution_count": 57,
      "outputs": [
        {
          "output_type": "stream",
          "name": "stdout",
          "text": [
            "hello1\n",
            "hello2\n",
            "load data into table 1\n",
            "division by zero\n",
            "trunctate table 1\n",
            "trunctate table 2\n",
            "trunctate table 100\n",
            "hello5\n",
            "hello6\n"
          ]
        }
      ]
    },
    {
      "cell_type": "code",
      "source": [],
      "metadata": {
        "id": "ZXoUa16NKB8_"
      },
      "execution_count": null,
      "outputs": []
    }
  ]
}